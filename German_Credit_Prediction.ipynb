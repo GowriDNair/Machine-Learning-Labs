{
  "cells": [
    {
      "cell_type": "markdown",
      "source": [
        "# 🏦 **German Credit Prediction** 💳"
      ],
      "metadata": {
        "id": "fb6da08d"
      },
      "id": "fb6da08d"
    },
    {
      "cell_type": "markdown",
      "source": [
        "# **EXERCISE 1:**"
      ],
      "metadata": {
        "id": "bd76bf21"
      },
      "id": "bd76bf21"
    },
    {
      "cell_type": "markdown",
      "source": [
        "Importing standard libraries:"
      ],
      "metadata": {
        "id": "Wtn4Uk8cuz3V"
      },
      "id": "Wtn4Uk8cuz3V"
    },
    {
      "cell_type": "code",
      "source": [
        "import pandas as pd\n",
        "import numpy as np\n",
        "import seaborn as sns\n",
        "from matplotlib import pyplot as plt\n",
        "%matplotlib inline"
      ],
      "outputs": [],
      "execution_count": null,
      "metadata": {
        "id": "2d1d2954"
      },
      "id": "2d1d2954"
    },
    {
      "cell_type": "markdown",
      "source": [
        "Importing libraries for our model and data preprocessing:"
      ],
      "metadata": {
        "id": "GNy_gC-vu2Tf"
      },
      "id": "GNy_gC-vu2Tf"
    },
    {
      "cell_type": "code",
      "source": [
        "from sklearn.model_selection import cross_val_score, train_test_split, GridSearchCV, KFold\n",
        "from sklearn.preprocessing import LabelEncoder\n",
        "from sklearn.tree import DecisionTreeClassifier\n",
        "from sklearn.metrics import roc_curve, roc_auc_score, accuracy_score, classification_report"
      ],
      "outputs": [],
      "execution_count": null,
      "metadata": {
        "id": "b595d13e"
      },
      "id": "b595d13e"
    },
    {
      "cell_type": "markdown",
      "source": [
        "## **Metadata:**"
      ],
      "metadata": {
        "id": "1d428c07"
      },
      "id": "1d428c07"
    },
    {
      "cell_type": "markdown",
      "source": [
        "1. checkin_acc : Status of existing checking account\n",
        "A11 : ... < 0 DM\n",
        "A12 : 0 <= ... < 200 DM\n",
        "A13 : ... >= 200 DM / salary assignments for at least 1 year\n",
        "A14 : no checking account\n",
        "\n",
        "\n",
        "2. duration : in month\n",
        "\n",
        "\n",
        "3. credit_history : \n",
        "A30 : no credits taken/ all credits paid back duly\n",
        "A31 : all credits at this bank paid back duly\n",
        "A32 : existing credits paid back duly till now\n",
        "A33 : delay in paying off in the past\n",
        "A34 : critical account/ other credits existing (not at this bank)\n",
        "\n",
        "\n",
        "4. amount\n",
        "\n",
        "\n",
        "5. savings_acc : \n",
        "A61 : ... < 100 DM\n",
        "A62 : 100 <= ... < 500 DM\n",
        "A63 : 500 <= ... < 1000 DM\n",
        "A64 : .. >= 1000 DM\n",
        "A65 : unknown/ no savings account\n",
        "\n",
        "\n",
        "6. present_emo_since : \n",
        "A71 : unemployed\n",
        "A72 : ... < 1 year\n",
        "A73 : 1 <= ... < 4 years\n",
        "A74 : 4 <= ... < 7 years\n",
        "A75 : .. >= 7 years\n",
        "\n",
        "\n",
        "7. inst_rate : installment rate in percentage of disposable income\n",
        "\n",
        "\n",
        "8. personal_status :\n",
        "A91 : male : divorced/separated\n",
        "A92 : female : divorced/separated/married\n",
        "A93 : male : single\n",
        "A94 : male : married/widowed\n",
        "A95 : female : single\n",
        "\n",
        "\n",
        "9. residing_since : permanent residence since\n",
        "\n",
        "\n",
        "10. age : in years\n",
        "\n",
        "\n",
        "11. inst_plans : Other installment plans\n",
        "A141 : bank\n",
        "A142 : stores\n",
        "A143 : none\n",
        "\n",
        "\n",
        "12. num_credits : Number of existing credits at this bank\n",
        "\n",
        "\n",
        "13. job : A171 : unemployed/ unskilled - non-resident\n",
        "A172 : unskilled - resident\n",
        "A173 : skilled employee / official\n",
        "A174 : management/ self-employed/highly qualified employee/ officer\n",
        "\n",
        "\n",
        "14. status : \n",
        "0 for good credit\n",
        "1 for bad credit"
      ],
      "metadata": {
        "id": "90096b74"
      },
      "id": "90096b74"
    },
    {
      "cell_type": "markdown",
      "source": [
        "Importing Data:"
      ],
      "metadata": {
        "id": "NLQJlW9Cu8z0"
      },
      "id": "NLQJlW9Cu8z0"
    },
    {
      "cell_type": "code",
      "source": [
        "df = pd.read_csv(\"German Credit Data.csv\", skipinitialspace= True)\n",
        "df.head()"
      ],
      "outputs": [
        {
          "output_type": "execute_result",
          "execution_count": 688,
          "data": {
            "text/html": "<div>\n<style scoped>\n    .dataframe tbody tr th:only-of-type {\n        vertical-align: middle;\n    }\n\n    .dataframe tbody tr th {\n        vertical-align: top;\n    }\n\n    .dataframe thead th {\n        text-align: right;\n    }\n</style>\n<table border=\"1\" class=\"dataframe\">\n  <thead>\n    <tr style=\"text-align: right;\">\n      <th></th>\n      <th>checkin_acc</th>\n      <th>duration</th>\n      <th>credit_history</th>\n      <th>amount</th>\n      <th>savings_acc</th>\n      <th>present_emp_since</th>\n      <th>inst_rate</th>\n      <th>personal_status</th>\n      <th>residing_since</th>\n      <th>age</th>\n      <th>inst_plans</th>\n      <th>num_credits</th>\n      <th>job</th>\n      <th>status</th>\n    </tr>\n  </thead>\n  <tbody>\n    <tr>\n      <th>0</th>\n      <td>A11</td>\n      <td>6</td>\n      <td>A34</td>\n      <td>1169</td>\n      <td>A65</td>\n      <td>A75</td>\n      <td>4</td>\n      <td>A93</td>\n      <td>4</td>\n      <td>67</td>\n      <td>A143</td>\n      <td>2</td>\n      <td>A173</td>\n      <td>0</td>\n    </tr>\n    <tr>\n      <th>1</th>\n      <td>A12</td>\n      <td>48</td>\n      <td>A32</td>\n      <td>5951</td>\n      <td>A61</td>\n      <td>A73</td>\n      <td>2</td>\n      <td>A92</td>\n      <td>2</td>\n      <td>22</td>\n      <td>A143</td>\n      <td>1</td>\n      <td>A173</td>\n      <td>1</td>\n    </tr>\n    <tr>\n      <th>2</th>\n      <td>A14</td>\n      <td>12</td>\n      <td>A34</td>\n      <td>2096</td>\n      <td>A61</td>\n      <td>A74</td>\n      <td>2</td>\n      <td>A93</td>\n      <td>3</td>\n      <td>49</td>\n      <td>A143</td>\n      <td>1</td>\n      <td>A172</td>\n      <td>0</td>\n    </tr>\n    <tr>\n      <th>3</th>\n      <td>A11</td>\n      <td>42</td>\n      <td>A32</td>\n      <td>7882</td>\n      <td>A61</td>\n      <td>A74</td>\n      <td>2</td>\n      <td>A93</td>\n      <td>4</td>\n      <td>45</td>\n      <td>A143</td>\n      <td>1</td>\n      <td>A173</td>\n      <td>0</td>\n    </tr>\n    <tr>\n      <th>4</th>\n      <td>A11</td>\n      <td>24</td>\n      <td>A33</td>\n      <td>4870</td>\n      <td>A61</td>\n      <td>A73</td>\n      <td>3</td>\n      <td>A93</td>\n      <td>4</td>\n      <td>53</td>\n      <td>A143</td>\n      <td>2</td>\n      <td>A173</td>\n      <td>1</td>\n    </tr>\n  </tbody>\n</table>\n</div>",
            "text/plain": "  checkin_acc  duration credit_history  amount savings_acc present_emp_since  \\\n0         A11         6            A34    1169         A65               A75   \n1         A12        48            A32    5951         A61               A73   \n2         A14        12            A34    2096         A61               A74   \n3         A11        42            A32    7882         A61               A74   \n4         A11        24            A33    4870         A61               A73   \n\n   inst_rate personal_status  residing_since  age inst_plans  num_credits  \\\n0          4             A93               4   67       A143            2   \n1          2             A92               2   22       A143            1   \n2          2             A93               3   49       A143            1   \n3          2             A93               4   45       A143            1   \n4          3             A93               4   53       A143            2   \n\n    job  status  \n0  A173       0  \n1  A173       1  \n2  A172       0  \n3  A173       0  \n4  A173       1  "
          },
          "metadata": {}
        }
      ],
      "execution_count": null,
      "metadata": {
        "id": "7d0949c0",
        "outputId": "c0ca1554-7546-48b9-83fe-8365b087204b"
      },
      "id": "7d0949c0"
    },
    {
      "cell_type": "markdown",
      "source": [
        "## **Q1 - Use  the  German  credit  rating  dataset “German Credit Data.csv”, Decision  treeclassifier to predict good or bad  credit.**\n",
        "\n",
        "* ### Use  “sklearn.model_selection”    and  GridSearchCV  to  search  the  hyperparameter  values  and  report  the  most  optimal one.\n",
        "\n",
        "* ### Configure the grid search to search for optimal parameters:"
      ],
      "metadata": {
        "id": "c0866990"
      },
      "id": "c0866990"
    },
    {
      "cell_type": "code",
      "source": [
        "#Checking for null values - there are none\n",
        "df.isna().sum()"
      ],
      "outputs": [
        {
          "output_type": "execute_result",
          "execution_count": 689,
          "data": {
            "text/plain": "checkin_acc          0\nduration             0\ncredit_history       0\namount               0\nsavings_acc          0\npresent_emp_since    0\ninst_rate            0\npersonal_status      0\nresiding_since       0\nage                  0\ninst_plans           0\nnum_credits          0\njob                  0\nstatus               0\ndtype: int64"
          },
          "metadata": {}
        }
      ],
      "execution_count": null,
      "metadata": {
        "scrolled": true,
        "id": "adfc2d3b",
        "outputId": "88320126-ed11-4bf0-e6a6-28c7fc3f95a7"
      },
      "id": "adfc2d3b"
    },
    {
      "cell_type": "code",
      "source": [
        "# Defining the independent (x) and dependent (y) variables. We want to predict status, so status is our y variable.\n",
        "x = df.drop(['status'], axis = 1)\n",
        "y = df['status']"
      ],
      "outputs": [],
      "execution_count": null,
      "metadata": {
        "id": "4015988d"
      },
      "id": "4015988d"
    },
    {
      "cell_type": "code",
      "source": [
        "# Defining the numeric and categorical columns for preprocessing\n",
        "num_cols = df[['duration', 'amount', 'inst_rate', 'residing_since', 'age', 'num_credits']]\n",
        "cat_cols = df[['checkin_acc', 'credit_history', 'savings_acc', 'present_emp_since', 'personal_status', 'inst_plans', 'job', 'status']]"
      ],
      "outputs": [],
      "execution_count": null,
      "metadata": {
        "id": "865d990a"
      },
      "id": "865d990a"
    },
    {
      "cell_type": "code",
      "source": [
        "# Encode the categorical variables in x. \n",
        "# Encoding transoforms categorical values into numeric values that can be plugged into the ML model\n",
        "from sklearn.preprocessing import LabelEncoder\n",
        "LE = LabelEncoder()\n",
        "x = x.apply(LE.fit_transform)"
      ],
      "outputs": [],
      "execution_count": null,
      "metadata": {
        "id": "8764b263"
      },
      "id": "8764b263"
    },
    {
      "cell_type": "markdown",
      "source": [
        "### • Splitting criteria: gini or entropy.\n",
        "### • Maximum depth of decision tree ranges from 2 to 10."
      ],
      "metadata": {
        "id": "e0075062"
      },
      "id": "e0075062"
    },
    {
      "cell_type": "code",
      "source": [
        "#Splitting the data in to testing and training sets. 20% of the data will be used for testing and 80% of it for training.\n",
        "x_train, x_test, y_train, y_test = train_test_split(x, y, test_size = 0.2, random_state = 42)"
      ],
      "outputs": [],
      "execution_count": null,
      "metadata": {
        "id": "cf376f5d"
      },
      "id": "cf376f5d"
    },
    {
      "cell_type": "code",
      "source": [
        "#importing needed libraries for gridsearch and decision tree\n",
        "from sklearn.model_selection import GridSearchCV\n",
        "from sklearn.tree import DecisionTreeClassifier"
      ],
      "outputs": [],
      "execution_count": null,
      "metadata": {
        "id": "79945dcc"
      },
      "id": "79945dcc"
    },
    {
      "cell_type": "code",
      "source": [
        "# Defining the parameters for GridSearchCV to search/explore to find the best hyperparameters.\n",
        "DTC_param = { 'max_depth': [2, 3, 4, 5, 6, 7, 8, 9, 10], \n",
        "             \"criterion\": [\"gini\", \"entropy\"]}\n",
        "\n",
        "# Creating an instance of DecisionTreeClassifier for GridSearchCV\n",
        "DTC = DecisionTreeClassifier(random_state=42)\n",
        "grid_log_reg = GridSearchCV(estimator = DTC, param_grid= DTC_param, cv = 10, verbose = True)\n",
        "\n",
        "#Fitting the x and y training sets according to the hyperparameters found by GridSearchCV\n",
        "grid_log_reg.fit(x_train, y_train)"
      ],
      "outputs": [
        {
          "output_type": "stream",
          "name": "stdout",
          "text": "Fitting 10 folds for each of 18 candidates, totalling 180 fits\n"
        },
        {
          "output_type": "execute_result",
          "execution_count": 695,
          "data": {
            "text/plain": "GridSearchCV(cv=10, estimator=DecisionTreeClassifier(random_state=42),\n             param_grid={'criterion': ['gini', 'entropy'],\n                         'max_depth': [2, 3, 4, 5, 6, 7, 8, 9, 10]},\n             verbose=True)"
          },
          "metadata": {}
        }
      ],
      "execution_count": null,
      "metadata": {
        "id": "cc21b21d",
        "outputId": "fb9a9f91-f3d1-4e6d-d78b-3035a55de203"
      },
      "id": "cc21b21d"
    },
    {
      "cell_type": "code",
      "source": [
        "# Creating an instance of the DecisionTreeClassifier for prediction\n",
        "\n",
        "DTC_final = DecisionTreeClassifier(criterion='entropy',\n",
        "                       max_depth=5, max_features='auto', \n",
        "                       min_samples_leaf=1, min_samples_split=2,\n",
        "                       random_state=1024, splitter='best')\n",
        "\n",
        "DTC_final.fit(x_train, y_train)\n",
        "\n",
        "predicted_y = DTC_final.predict(x_test)"
      ],
      "outputs": [],
      "execution_count": null,
      "metadata": {
        "id": "0f3b6945"
      },
      "id": "0f3b6945"
    },
    {
      "cell_type": "code",
      "source": [
        "# Checking the performance of DecisionTreeClassifier when the model has different values for maximum depth (the required range from 2 - 10)\n",
        "\n",
        "train_accuracy = []\n",
        "test_accuracy = []\n",
        "for i in range(2,10):\n",
        "    dtc_iterate = DecisionTreeClassifier(max_depth=i , random_state=42)\n",
        "    dtc_iterate.fit(x_train, y_train)\n",
        "    train_accuracy.append(dtc_iterate.score(x_train, y_train))\n",
        "    test_accuracy.append(dtc_iterate.score(x_test, y_test))\n",
        "    \n",
        "# Displaying the results as a dataframe\n",
        "\n",
        "given_range = pd.DataFrame({'max_depth':range(2,10), 'train_acc':train_accuracy, 'test_acc':test_accuracy})\n",
        "given_range"
      ],
      "outputs": [
        {
          "output_type": "execute_result",
          "execution_count": 697,
          "data": {
            "text/html": "<div>\n<style scoped>\n    .dataframe tbody tr th:only-of-type {\n        vertical-align: middle;\n    }\n\n    .dataframe tbody tr th {\n        vertical-align: top;\n    }\n\n    .dataframe thead th {\n        text-align: right;\n    }\n</style>\n<table border=\"1\" class=\"dataframe\">\n  <thead>\n    <tr style=\"text-align: right;\">\n      <th></th>\n      <th>max_depth</th>\n      <th>train_acc</th>\n      <th>test_acc</th>\n    </tr>\n  </thead>\n  <tbody>\n    <tr>\n      <th>0</th>\n      <td>2</td>\n      <td>0.72750</td>\n      <td>0.745</td>\n    </tr>\n    <tr>\n      <th>1</th>\n      <td>3</td>\n      <td>0.76125</td>\n      <td>0.765</td>\n    </tr>\n    <tr>\n      <th>2</th>\n      <td>4</td>\n      <td>0.78000</td>\n      <td>0.745</td>\n    </tr>\n    <tr>\n      <th>3</th>\n      <td>5</td>\n      <td>0.80250</td>\n      <td>0.735</td>\n    </tr>\n    <tr>\n      <th>4</th>\n      <td>6</td>\n      <td>0.82625</td>\n      <td>0.680</td>\n    </tr>\n    <tr>\n      <th>5</th>\n      <td>7</td>\n      <td>0.85500</td>\n      <td>0.690</td>\n    </tr>\n    <tr>\n      <th>6</th>\n      <td>8</td>\n      <td>0.88375</td>\n      <td>0.710</td>\n    </tr>\n    <tr>\n      <th>7</th>\n      <td>9</td>\n      <td>0.91125</td>\n      <td>0.680</td>\n    </tr>\n  </tbody>\n</table>\n</div>",
            "text/plain": "   max_depth  train_acc  test_acc\n0          2    0.72750     0.745\n1          3    0.76125     0.765\n2          4    0.78000     0.745\n3          5    0.80250     0.735\n4          6    0.82625     0.680\n5          7    0.85500     0.690\n6          8    0.88375     0.710\n7          9    0.91125     0.680"
          },
          "metadata": {}
        }
      ],
      "execution_count": null,
      "metadata": {
        "scrolled": false,
        "id": "bba09670",
        "outputId": "942df497-cb38-4a7e-90ff-82ca1e326f70"
      },
      "id": "bba09670"
    },
    {
      "cell_type": "markdown",
      "source": [
        "* While both training and testing accuracy must be observed, testing accuracy is of greater importance. \n",
        "* As seen above, testing accuracy tends to decrease as the maximum depth increases\n",
        "* But training accuracy tends to increase as the maximum depth increases."
      ],
      "metadata": {
        "id": "nDItK-u2vd6O"
      },
      "id": "nDItK-u2vd6O"
    },
    {
      "cell_type": "code",
      "source": [
        "# Illustrating the results above: \n",
        "\n",
        "plt.figure(figsize=(12,6))\n",
        "plt.plot(given_range['max_depth'], given_range['train_acc'] , marker='o')\n",
        "plt.plot(given_range['max_depth'], given_range['test_acc'] , marker='o')\n",
        "plt.xlabel('Tree Depth')\n",
        "plt.ylabel('Accuracy')\n",
        "plt.legend([\"Train Accuracy\", \"Test Accuracy\"])"
      ],
      "outputs": [
        {
          "output_type": "execute_result",
          "execution_count": 699,
          "data": {
            "text/plain": "<matplotlib.legend.Legend at 0x28329f44820>"
          },
          "metadata": {}
        },
        {
          "output_type": "display_data",
          "data": {
            "image/png": "[encoded data removed]",
            "text/plain": "<Figure size 864x432 with 1 Axes>"
          },
          "metadata": {
            "needs_background": "light"
          }
        }
      ],
      "execution_count": null,
      "metadata": {
        "id": "9cf50c0f",
        "outputId": "ce4891d8-a923-4f16-b124-a6b613f89ded"
      },
      "id": "9cf50c0f"
    },
    {
      "cell_type": "code",
      "source": [
        "# Displaying the best hyperparameters as found by GridSearchCV:\n",
        "\n",
        "print('Best Criterion:', grid_log_reg.best_estimator_.get_params()['criterion'])\n",
        "print('Best max_depth:', grid_log_reg.best_estimator_.get_params()['max_depth'])"
      ],
      "outputs": [
        {
          "output_type": "stream",
          "name": "stdout",
          "text": "Best Criterion: gini\nBest max_depth: 3\n"
        }
      ],
      "execution_count": null,
      "metadata": {
        "id": "29d3e59a",
        "outputId": "8f2f93fb-14c3-4d6a-9c6f-d55f6024525a"
      },
      "id": "29d3e59a"
    },
    {
      "cell_type": "markdown",
      "source": [
        "### The searching of optimal parameter will be validated using 10-fold cross validation and the most optimal parameter will be chosen based on ROC AUC score."
      ],
      "metadata": {
        "id": "3d748a0a"
      },
      "id": "3d748a0a"
    },
    {
      "cell_type": "code",
      "source": [
        "# Validating the optimal parameters using 10-fold cross validation:\n",
        "\n",
        "from sklearn.metrics import roc_curve, roc_auc_score\n",
        "from sklearn.model_selection import cross_val_predict\n",
        "\n",
        "validate = cross_val_predict(DTC_final, x_test, y_test, cv=10, method='predict_proba')"
      ],
      "outputs": [],
      "execution_count": null,
      "metadata": {
        "id": "129cface"
      },
      "id": "129cface"
    },
    {
      "cell_type": "code",
      "source": [
        "# Displaying the ROC score:\n",
        "print (roc_auc_score(y_test, validate[:, 1]))"
      ],
      "outputs": [
        {
          "output_type": "stream",
          "name": "stdout",
          "text": "0.6727972112032696\n"
        }
      ],
      "execution_count": null,
      "metadata": {
        "id": "21b8e2ad",
        "outputId": "63380467-c0cf-445f-f838-ce769dc8a00b"
      },
      "id": "21b8e2ad"
    },
    {
      "cell_type": "code",
      "source": [
        "# Illustrating the ROC curve:\n",
        "\n",
        "fpr, tpr, _ = roc_curve(y_test, validate[:,1])\n",
        "\n",
        "plt.clf()\n",
        "plt.plot(fpr, tpr)\n",
        "plt.xlabel('FPR')\n",
        "plt.ylabel('TPR')\n",
        "plt.title('ROC curve')\n",
        "plt.show()"
      ],
      "outputs": [
        {
          "output_type": "display_data",
          "data": {
            "image/png": "[encoded data removed]",
            "text/plain": "<Figure size 432x288 with 1 Axes>"
          },
          "metadata": {
            "needs_background": "light"
          }
        }
      ],
      "execution_count": null,
      "metadata": {
        "scrolled": true,
        "id": "b1c7a6d2",
        "outputId": "e0fbe354-5c64-489d-9a35-2415457ac4f9"
      },
      "id": "b1c7a6d2"
    },
    {
      "cell_type": "code",
      "source": [
        "# The ROC curve above demonstrates a moderately well performing decision tree model. \n",
        "# This is confirmed by the curve moving further away from the upper left corner, and having a lesser area under the curve than a completely diagnoal line."
      ],
      "outputs": [],
      "execution_count": null,
      "metadata": {
        "id": "dc36f48a"
      },
      "id": "dc36f48a"
    },
    {
      "cell_type": "markdown",
      "source": [
        "# Q2 - Visualize the treeusinggraphviz software."
      ],
      "metadata": {
        "id": "c0f67eb2"
      },
      "id": "c0f67eb2"
    },
    {
      "cell_type": "code",
      "source": [
        "from graphviz import *"
      ],
      "outputs": [],
      "execution_count": null,
      "metadata": {
        "id": "bd6831fd"
      },
      "id": "bd6831fd"
    },
    {
      "cell_type": "code",
      "source": [
        "from sklearn import tree"
      ],
      "outputs": [],
      "execution_count": null,
      "metadata": {
        "id": "f4af8806"
      },
      "id": "f4af8806"
    },
    {
      "cell_type": "code",
      "source": [
        "# Saving the decision tree into a .dot file\n",
        "\n",
        "tree.export_graphviz(DTC_final,\n",
        "                     out_file=\"treefinal.dot\",\n",
        "                     feature_names = x.columns, \n",
        "                     filled = True)"
      ],
      "outputs": [],
      "execution_count": null,
      "metadata": {
        "id": "64d3d7e6"
      },
      "id": "64d3d7e6"
    },
    {
      "cell_type": "markdown",
      "source": [
        "* There were problems visualizing the software in this notebook itself so the visualization of the tree was done \n",
        "* using an online convertor (link given below) that was provided in an article on the TowardsDataScience website\n",
        "* Source: https://towardsdatascience.com/visualizing-decision-trees-with-python-scikit-learn-graphviz-matplotlib-1c50b4aa68dc\n",
        "* Convertor: https://dreampuf.github.io/GraphvizOnline"
      ],
      "metadata": {
        "id": "US0VxF8iv1Kh"
      },
      "id": "US0VxF8iv1Kh"
    },
    {
      "cell_type": "markdown",
      "source": [
        "## **Q3 -  Display the text representation of the rules learnt.**"
      ],
      "metadata": {
        "id": "4f2b8318"
      },
      "id": "4f2b8318"
    },
    {
      "cell_type": "code",
      "source": [
        "text_representation = tree.export_text(DTC_final)\n",
        "print(text_representation)"
      ],
      "outputs": [
        {
          "output_type": "stream",
          "name": "stdout",
          "text": "|--- feature_5 <= 2.50\n|   |--- feature_0 <= 1.50\n|   |   |--- feature_3 <= 873.50\n|   |   |   |--- feature_6 <= 1.50\n|   |   |   |   |--- feature_9 <= 7.50\n|   |   |   |   |   |--- class: 1\n|   |   |   |   |--- feature_9 >  7.50\n|   |   |   |   |   |--- class: 0\n|   |   |   |--- feature_6 >  1.50\n|   |   |   |   |--- feature_9 <= 46.50\n|   |   |   |   |   |--- class: 1\n|   |   |   |   |--- feature_9 >  46.50\n|   |   |   |   |   |--- class: 0\n|   |   |--- feature_3 >  873.50\n|   |   |   |--- feature_6 <= 2.50\n|   |   |   |   |--- feature_1 <= 22.00\n|   |   |   |   |   |--- class: 1\n|   |   |   |   |--- feature_1 >  22.00\n|   |   |   |   |   |--- class: 1\n|   |   |   |--- feature_6 >  2.50\n|   |   |   |   |--- class: 0\n|   |--- feature_0 >  1.50\n|   |   |--- feature_2 <= 0.50\n|   |   |   |--- feature_6 <= 2.00\n|   |   |   |   |--- class: 1\n|   |   |   |--- feature_6 >  2.00\n|   |   |   |   |--- feature_3 <= 349.50\n|   |   |   |   |   |--- class: 1\n|   |   |   |   |--- feature_3 >  349.50\n|   |   |   |   |   |--- class: 0\n|   |   |--- feature_2 >  0.50\n|   |   |   |--- feature_6 <= 0.50\n|   |   |   |   |--- feature_2 <= 3.50\n|   |   |   |   |   |--- class: 0\n|   |   |   |   |--- feature_2 >  3.50\n|   |   |   |   |   |--- class: 0\n|   |   |   |--- feature_6 >  0.50\n|   |   |   |   |--- feature_8 <= 0.50\n|   |   |   |   |   |--- class: 0\n|   |   |   |   |--- feature_8 >  0.50\n|   |   |   |   |   |--- class: 0\n|--- feature_5 >  2.50\n|   |--- feature_9 <= 15.50\n|   |   |--- feature_10 <= 0.50\n|   |   |   |--- feature_4 <= 0.50\n|   |   |   |   |--- feature_3 <= 703.00\n|   |   |   |   |   |--- class: 1\n|   |   |   |   |--- feature_3 >  703.00\n|   |   |   |   |   |--- class: 0\n|   |   |   |--- feature_4 >  0.50\n|   |   |   |   |--- feature_9 <= 10.50\n|   |   |   |   |   |--- class: 1\n|   |   |   |   |--- feature_9 >  10.50\n|   |   |   |   |   |--- class: 0\n|   |   |--- feature_10 >  0.50\n|   |   |   |--- feature_2 <= 1.50\n|   |   |   |   |--- feature_8 <= 1.50\n|   |   |   |   |   |--- class: 0\n|   |   |   |   |--- feature_8 >  1.50\n|   |   |   |   |   |--- class: 1\n|   |   |   |--- feature_2 >  1.50\n|   |   |   |   |--- feature_1 <= 22.00\n|   |   |   |   |   |--- class: 0\n|   |   |   |   |--- feature_1 >  22.00\n|   |   |   |   |   |--- class: 0\n|   |--- feature_9 >  15.50\n|   |   |--- feature_2 <= 3.50\n|   |   |   |--- feature_2 <= 1.50\n|   |   |   |   |--- feature_12 <= 1.50\n|   |   |   |   |   |--- class: 0\n|   |   |   |   |--- feature_12 >  1.50\n|   |   |   |   |   |--- class: 1\n|   |   |   |--- feature_2 >  1.50\n|   |   |   |   |--- feature_1 <= 5.50\n|   |   |   |   |   |--- class: 0\n|   |   |   |   |--- feature_1 >  5.50\n|   |   |   |   |   |--- class: 0\n|   |   |--- feature_2 >  3.50\n|   |   |   |--- feature_3 <= 788.50\n|   |   |   |   |--- feature_0 <= 2.50\n|   |   |   |   |   |--- class: 0\n|   |   |   |   |--- feature_0 >  2.50\n|   |   |   |   |   |--- class: 0\n|   |   |   |--- feature_3 >  788.50\n|   |   |   |   |--- feature_6 <= 2.50\n|   |   |   |   |   |--- class: 0\n|   |   |   |   |--- feature_6 >  2.50\n|   |   |   |   |   |--- class: 1\n\n"
        }
      ],
      "execution_count": null,
      "metadata": {
        "id": "9d649149",
        "outputId": "fcc03fd5-d9a4-44d9-81d1-da54a0703094"
      },
      "id": "9d649149"
    }
  ],
  "metadata": {
    "kernelspec": {
      "display_name": "Python 3",
      "language": "python",
      "name": "python3"
    },
    "language_info": {
      "codemirror_mode": {
        "name": "ipython",
        "version": 3
      },
      "file_extension": ".py",
      "mimetype": "text/x-python",
      "name": "python",
      "nbconvert_exporter": "python",
      "pygments_lexer": "ipython3",
      "version": "3.8.8"
    },
    "nteract": {
      "version": "nteract-front-end@1.0.0"
    },
    "colab": {
      "provenance": []
    }
  },
  "nbformat": 4,
  "nbformat_minor": 5
}