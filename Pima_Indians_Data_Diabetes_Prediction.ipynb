{
  "cells": [
    {
      "cell_type": "markdown",
      "source": [
        "# 🏥 **Pima_Indians_Data_Diabetes_Prediction** 📊"
      ],
      "metadata": {
        "id": "614ce3a7"
      },
      "id": "614ce3a7"
    },
    {
      "cell_type": "markdown",
      "source": [
        "## **Q1 -  Use the “pima-indians-diabetes.csv” dataset and note down the meta information.**"
      ],
      "metadata": {
        "id": "2be20f9f"
      },
      "id": "2be20f9f"
    },
    {
      "cell_type": "markdown",
      "source": [
        "## **Metadata:**\n",
        "\n",
        "The Pima Indians Diabetes Database is a collection of independent variables   (Pregnancies, Glucose, BloodPressure, SkinThickness, Insulin, BMI, DiabetesPedigreeFunction , and Age) that have been observed along with one dependent variable (Outcome (1 if the individual has diabetes, 0 if they do not)).\n",
        "\n",
        "\n",
        "The Details of the independent variables are given below:\n",
        "\n",
        "* **Pregnancies** - Number of Pregnancies the individual has experienced\n",
        "* **Glucose** - Plasma glucose concentration over 2 hours in an oral glucose tolerance test\n",
        "* **BloodPressure** - Diastolic blood pressure (mm Hg)\n",
        "* **SkinThickness** - Triceps skin fold thickness (mm)\n",
        "* **Insulin** - 2-Hour serum insulin (mu U/ml)\n",
        "* **BMI** - Body Mass Index (weight in kg/(height in m)^2)\n",
        "* **DiabetesPedigreeFunction** - A measure of the genetic influence of diabetes on an individual (the closer the value is to 1, the more likely the individual is to have diabetes)."
      ],
      "metadata": {
        "id": "7QvyP95B1PmV"
      },
      "id": "7QvyP95B1PmV"
    },
    {
      "cell_type": "markdown",
      "source": [
        "Importing standard libraries:"
      ],
      "metadata": {
        "id": "SoaflpCd1lnb"
      },
      "id": "SoaflpCd1lnb"
    },
    {
      "cell_type": "code",
      "source": [
        "import pandas as pd\n",
        "import numpy as np\n",
        "import seaborn as sns\n",
        "from matplotlib import pyplot as plt"
      ],
      "outputs": [],
      "execution_count": null,
      "metadata": {
        "id": "0b2c9c27"
      },
      "id": "0b2c9c27"
    },
    {
      "cell_type": "markdown",
      "source": [
        "Importing data:"
      ],
      "metadata": {
        "id": "ZBSBw1SC1n2j"
      },
      "id": "ZBSBw1SC1n2j"
    },
    {
      "cell_type": "code",
      "source": [
        "df = pd.read_csv(\"C:\\\\Users\\\\gouri\\\\OneDrive\\\\Desktop\\\\ML LAB\\\\Week 2\\\\diabetes.csv\")\n",
        "df.head()"
      ],
      "outputs": [
        {
          "output_type": "execute_result",
          "execution_count": 419,
          "data": {
            "text/html": "<div>\n<style scoped>\n    .dataframe tbody tr th:only-of-type {\n        vertical-align: middle;\n    }\n\n    .dataframe tbody tr th {\n        vertical-align: top;\n    }\n\n    .dataframe thead th {\n        text-align: right;\n    }\n</style>\n<table border=\"1\" class=\"dataframe\">\n  <thead>\n    <tr style=\"text-align: right;\">\n      <th></th>\n      <th>Pregnancies</th>\n      <th>Glucose</th>\n      <th>BloodPressure</th>\n      <th>SkinThickness</th>\n      <th>Insulin</th>\n      <th>BMI</th>\n      <th>DiabetesPedigreeFunction</th>\n      <th>Age</th>\n      <th>Outcome</th>\n    </tr>\n  </thead>\n  <tbody>\n    <tr>\n      <th>0</th>\n      <td>6</td>\n      <td>148</td>\n      <td>72</td>\n      <td>35</td>\n      <td>0</td>\n      <td>33.6</td>\n      <td>0.627</td>\n      <td>50</td>\n      <td>1</td>\n    </tr>\n    <tr>\n      <th>1</th>\n      <td>1</td>\n      <td>85</td>\n      <td>66</td>\n      <td>29</td>\n      <td>0</td>\n      <td>26.6</td>\n      <td>0.351</td>\n      <td>31</td>\n      <td>0</td>\n    </tr>\n    <tr>\n      <th>2</th>\n      <td>8</td>\n      <td>183</td>\n      <td>64</td>\n      <td>0</td>\n      <td>0</td>\n      <td>23.3</td>\n      <td>0.672</td>\n      <td>32</td>\n      <td>1</td>\n    </tr>\n    <tr>\n      <th>3</th>\n      <td>1</td>\n      <td>89</td>\n      <td>66</td>\n      <td>23</td>\n      <td>94</td>\n      <td>28.1</td>\n      <td>0.167</td>\n      <td>21</td>\n      <td>0</td>\n    </tr>\n    <tr>\n      <th>4</th>\n      <td>0</td>\n      <td>137</td>\n      <td>40</td>\n      <td>35</td>\n      <td>168</td>\n      <td>43.1</td>\n      <td>2.288</td>\n      <td>33</td>\n      <td>1</td>\n    </tr>\n  </tbody>\n</table>\n</div>",
            "text/plain": "   Pregnancies  Glucose  BloodPressure  SkinThickness  Insulin   BMI  \\\n0            6      148             72             35        0  33.6   \n1            1       85             66             29        0  26.6   \n2            8      183             64              0        0  23.3   \n3            1       89             66             23       94  28.1   \n4            0      137             40             35      168  43.1   \n\n   DiabetesPedigreeFunction  Age  Outcome  \n0                     0.627   50        1  \n1                     0.351   31        0  \n2                     0.672   32        1  \n3                     0.167   21        0  \n4                     2.288   33        1  "
          },
          "metadata": {}
        }
      ],
      "execution_count": null,
      "metadata": {
        "scrolled": true,
        "id": "6e6cf099",
        "outputId": "33cfe7c0-75d5-4951-fe85-b692c0e499b8"
      },
      "id": "6e6cf099"
    },
    {
      "cell_type": "code",
      "source": [
        "# Checking for missing values in the dataset - there are none\n",
        "df.isna().any()"
      ],
      "outputs": [
        {
          "output_type": "execute_result",
          "execution_count": 420,
          "data": {
            "text/plain": "Pregnancies                 False\nGlucose                     False\nBloodPressure               False\nSkinThickness               False\nInsulin                     False\nBMI                         False\nDiabetesPedigreeFunction    False\nAge                         False\nOutcome                     False\ndtype: bool"
          },
          "metadata": {}
        }
      ],
      "execution_count": null,
      "metadata": {
        "id": "bd12dfd4",
        "outputId": "9c23c18e-da87-4ce9-9b4b-9b0d0bbe3d1f"
      },
      "id": "bd12dfd4"
    },
    {
      "cell_type": "markdown",
      "source": [
        "There are instances where BMI has been listed to be zero, which is impossible for a human to have. These values will be removed."
      ],
      "metadata": {
        "id": "glhS_fom1vnF"
      },
      "id": "glhS_fom1vnF"
    },
    {
      "cell_type": "code",
      "source": [
        "print(\"Values Before Dropping Rows\")\n",
        "print(\"Minimum BMI:\", df[\"BMI\"].min())\n",
        "print(\"Maximum BMI:\", df[\"BMI\"].max())"
      ],
      "outputs": [
        {
          "output_type": "stream",
          "name": "stdout",
          "text": "Values Before Dropping Rows\nMinimum BMI: 0.0\nMaximum BMI: 67.1\n"
        }
      ],
      "execution_count": null,
      "metadata": {
        "id": "f8558d89",
        "outputId": "f0da08fa-7b13-4c7f-8821-241733e3bb7f"
      },
      "id": "f8558d89"
    },
    {
      "cell_type": "code",
      "source": [
        "df.drop(df.index[df['BMI'] == 0], inplace=True)\n",
        "print(\"Values After Dropping Rows\")\n",
        "print(\"Minimum BMI:\", df[\"BMI\"].min())\n",
        "print(\"Maximum BMI:\", df[\"BMI\"].max())"
      ],
      "outputs": [
        {
          "output_type": "stream",
          "name": "stdout",
          "text": "Values After Dropping Rows\nMinimum BMI: 18.2\nMaximum BMI: 67.1\n"
        }
      ],
      "execution_count": null,
      "metadata": {
        "id": "eb3501d2",
        "outputId": "a1b7f1c3-94ea-48ef-ca5e-385ca0e82f30"
      },
      "id": "eb3501d2"
    },
    {
      "cell_type": "markdown",
      "source": [
        "## **Q2 - Compute mean & standard deviation, tabulate and visualize the age of the patients**"
      ],
      "metadata": {
        "id": "ccc680a7"
      },
      "id": "ccc680a7"
    },
    {
      "cell_type": "code",
      "source": [
        "print(\"Mean Age:\", df[\"Age\"].mean())\n",
        "print(\"Standard Deviation of Age: \", df[\"Age\"].std())"
      ],
      "outputs": [
        {
          "output_type": "stream",
          "name": "stdout",
          "text": "Mean Age: 33.28137384412153\nStandard Deviation of Age:  11.697751523376121\n"
        }
      ],
      "execution_count": null,
      "metadata": {
        "id": "0a72a4d7",
        "outputId": "07c4c80e-0686-449a-806a-c38866cb59f5"
      },
      "id": "0a72a4d7"
    },
    {
      "cell_type": "code",
      "source": [
        "print(\"Minimum Age:\", df[\"Age\"].min())\n",
        "print(\"Maximum Age:\", df[\"Age\"].max())"
      ],
      "outputs": [
        {
          "output_type": "stream",
          "name": "stdout",
          "text": "Minimum Age: 21\nMaximum Age: 81\n"
        }
      ],
      "execution_count": null,
      "metadata": {
        "scrolled": false,
        "id": "7e6b2bea",
        "outputId": "da4d1c36-5cd7-4ac3-f4eb-184470a94512"
      },
      "id": "7e6b2bea"
    },
    {
      "cell_type": "code",
      "source": [
        "# Crosstabulation showing diabetes prevalance per age\n",
        "# 1 = Has diabetes\n",
        "# 0 = Does not have diabetes\n",
        "\n",
        "pd.crosstab(index = df[\"Age\"], columns = df[\"Outcome\"])"
      ],
      "outputs": [
        {
          "output_type": "execute_result",
          "execution_count": 426,
          "data": {
            "text/html": "<div>\n<style scoped>\n    .dataframe tbody tr th:only-of-type {\n        vertical-align: middle;\n    }\n\n    .dataframe tbody tr th {\n        vertical-align: top;\n    }\n\n    .dataframe thead th {\n        text-align: right;\n    }\n</style>\n<table border=\"1\" class=\"dataframe\">\n  <thead>\n    <tr style=\"text-align: right;\">\n      <th>Outcome</th>\n      <th>0</th>\n      <th>1</th>\n    </tr>\n    <tr>\n      <th>Age</th>\n      <th></th>\n      <th></th>\n    </tr>\n  </thead>\n  <tbody>\n    <tr>\n      <th>21</th>\n      <td>55</td>\n      <td>5</td>\n    </tr>\n    <tr>\n      <th>22</th>\n      <td>59</td>\n      <td>11</td>\n    </tr>\n    <tr>\n      <th>23</th>\n      <td>31</td>\n      <td>7</td>\n    </tr>\n    <tr>\n      <th>24</th>\n      <td>37</td>\n      <td>8</td>\n    </tr>\n    <tr>\n      <th>25</th>\n      <td>33</td>\n      <td>14</td>\n    </tr>\n    <tr>\n      <th>26</th>\n      <td>24</td>\n      <td>8</td>\n    </tr>\n    <tr>\n      <th>27</th>\n      <td>24</td>\n      <td>8</td>\n    </tr>\n    <tr>\n      <th>28</th>\n      <td>25</td>\n      <td>10</td>\n    </tr>\n    <tr>\n      <th>29</th>\n      <td>16</td>\n      <td>13</td>\n    </tr>\n    <tr>\n      <th>30</th>\n      <td>15</td>\n      <td>5</td>\n    </tr>\n    <tr>\n      <th>31</th>\n      <td>11</td>\n      <td>13</td>\n    </tr>\n    <tr>\n      <th>32</th>\n      <td>7</td>\n      <td>9</td>\n    </tr>\n    <tr>\n      <th>33</th>\n      <td>7</td>\n      <td>10</td>\n    </tr>\n    <tr>\n      <th>34</th>\n      <td>10</td>\n      <td>4</td>\n    </tr>\n    <tr>\n      <th>35</th>\n      <td>5</td>\n      <td>5</td>\n    </tr>\n    <tr>\n      <th>36</th>\n      <td>6</td>\n      <td>10</td>\n    </tr>\n    <tr>\n      <th>37</th>\n      <td>13</td>\n      <td>6</td>\n    </tr>\n    <tr>\n      <th>38</th>\n      <td>6</td>\n      <td>10</td>\n    </tr>\n    <tr>\n      <th>39</th>\n      <td>9</td>\n      <td>3</td>\n    </tr>\n    <tr>\n      <th>40</th>\n      <td>7</td>\n      <td>6</td>\n    </tr>\n    <tr>\n      <th>41</th>\n      <td>9</td>\n      <td>13</td>\n    </tr>\n    <tr>\n      <th>42</th>\n      <td>11</td>\n      <td>7</td>\n    </tr>\n    <tr>\n      <th>43</th>\n      <td>2</td>\n      <td>11</td>\n    </tr>\n    <tr>\n      <th>44</th>\n      <td>3</td>\n      <td>5</td>\n    </tr>\n    <tr>\n      <th>45</th>\n      <td>7</td>\n      <td>8</td>\n    </tr>\n    <tr>\n      <th>46</th>\n      <td>6</td>\n      <td>7</td>\n    </tr>\n    <tr>\n      <th>47</th>\n      <td>2</td>\n      <td>4</td>\n    </tr>\n    <tr>\n      <th>48</th>\n      <td>4</td>\n      <td>1</td>\n    </tr>\n    <tr>\n      <th>49</th>\n      <td>2</td>\n      <td>3</td>\n    </tr>\n    <tr>\n      <th>50</th>\n      <td>3</td>\n      <td>5</td>\n    </tr>\n    <tr>\n      <th>51</th>\n      <td>3</td>\n      <td>5</td>\n    </tr>\n    <tr>\n      <th>52</th>\n      <td>1</td>\n      <td>7</td>\n    </tr>\n    <tr>\n      <th>53</th>\n      <td>1</td>\n      <td>4</td>\n    </tr>\n    <tr>\n      <th>54</th>\n      <td>2</td>\n      <td>3</td>\n    </tr>\n    <tr>\n      <th>55</th>\n      <td>3</td>\n      <td>1</td>\n    </tr>\n    <tr>\n      <th>56</th>\n      <td>1</td>\n      <td>2</td>\n    </tr>\n    <tr>\n      <th>57</th>\n      <td>4</td>\n      <td>1</td>\n    </tr>\n    <tr>\n      <th>58</th>\n      <td>4</td>\n      <td>3</td>\n    </tr>\n    <tr>\n      <th>59</th>\n      <td>1</td>\n      <td>2</td>\n    </tr>\n    <tr>\n      <th>60</th>\n      <td>3</td>\n      <td>2</td>\n    </tr>\n    <tr>\n      <th>61</th>\n      <td>1</td>\n      <td>1</td>\n    </tr>\n    <tr>\n      <th>62</th>\n      <td>2</td>\n      <td>2</td>\n    </tr>\n    <tr>\n      <th>63</th>\n      <td>4</td>\n      <td>0</td>\n    </tr>\n    <tr>\n      <th>64</th>\n      <td>1</td>\n      <td>0</td>\n    </tr>\n    <tr>\n      <th>65</th>\n      <td>3</td>\n      <td>0</td>\n    </tr>\n    <tr>\n      <th>66</th>\n      <td>2</td>\n      <td>2</td>\n    </tr>\n    <tr>\n      <th>67</th>\n      <td>2</td>\n      <td>1</td>\n    </tr>\n    <tr>\n      <th>68</th>\n      <td>1</td>\n      <td>0</td>\n    </tr>\n    <tr>\n      <th>69</th>\n      <td>1</td>\n      <td>0</td>\n    </tr>\n    <tr>\n      <th>70</th>\n      <td>0</td>\n      <td>1</td>\n    </tr>\n    <tr>\n      <th>72</th>\n      <td>1</td>\n      <td>0</td>\n    </tr>\n    <tr>\n      <th>81</th>\n      <td>1</td>\n      <td>0</td>\n    </tr>\n  </tbody>\n</table>\n</div>",
            "text/plain": "Outcome   0   1\nAge            \n21       55   5\n22       59  11\n23       31   7\n24       37   8\n25       33  14\n26       24   8\n27       24   8\n28       25  10\n29       16  13\n30       15   5\n31       11  13\n32        7   9\n33        7  10\n34       10   4\n35        5   5\n36        6  10\n37       13   6\n38        6  10\n39        9   3\n40        7   6\n41        9  13\n42       11   7\n43        2  11\n44        3   5\n45        7   8\n46        6   7\n47        2   4\n48        4   1\n49        2   3\n50        3   5\n51        3   5\n52        1   7\n53        1   4\n54        2   3\n55        3   1\n56        1   2\n57        4   1\n58        4   3\n59        1   2\n60        3   2\n61        1   1\n62        2   2\n63        4   0\n64        1   0\n65        3   0\n66        2   2\n67        2   1\n68        1   0\n69        1   0\n70        0   1\n72        1   0\n81        1   0"
          },
          "metadata": {}
        }
      ],
      "execution_count": null,
      "metadata": {
        "scrolled": true,
        "id": "3d801106",
        "outputId": "58976299-807d-4006-e66f-5a1d1fa68ee7"
      },
      "id": "3d801106"
    },
    {
      "cell_type": "code",
      "source": [
        "# Creating a boxplot for age distribution:\n",
        "sns.boxplot(df[\"Age\"])\n",
        "plt.title(\"Distribution of Ages in Pima Indians Dataset\")\n",
        "plt.show()"
      ],
      "outputs": [
        {
          "output_type": "stream",
          "name": "stderr",
          "text": "C:\\Users\\gouri\\ANACONDA\\lib\\site-packages\\seaborn\\_decorators.py:36: FutureWarning: Pass the following variable as a keyword arg: x. From version 0.12, the only valid positional argument will be `data`, and passing other arguments without an explicit keyword will result in an error or misinterpretation.\n  warnings.warn(\n"
        },
        {
          "output_type": "display_data",
          "data": {
            "image/png": "[encoded data removed]",
            "text/plain": "<Figure size 432x288 with 1 Axes>"
          },
          "metadata": {
            "needs_background": "light"
          }
        }
      ],
      "execution_count": null,
      "metadata": {
        "id": "bbda8aac",
        "outputId": "c3092f3a-d233-4d08-bbd6-4f9306fec2fb"
      },
      "id": "bbda8aac"
    },
    {
      "cell_type": "markdown",
      "source": [
        "* The data is positively skewed. Mean > Median > Mode. While it gives a lot of information regarding younger individuals (from around ages 25 to 40),\n",
        "* There is comparatively little information concerning individuals above the age of 40 (especially those above the age of 65 since they are shown to be outliers here).\n",
        "* This dataset is not balanced as the number of individuals across the different age groups is not consistent(decreases as the age increases), \n",
        "* So there will be some bias in how the model can predict whether or not older individuals are diabetic."
      ],
      "metadata": {
        "id": "44PCMczB2qJP"
      },
      "id": "44PCMczB2qJP"
    },
    {
      "cell_type": "markdown",
      "source": [
        "## **Q3 - Analyze and tabulate the relationship of age, BMI of patients with respect to the class**"
      ],
      "metadata": {
        "id": "f039faa2"
      },
      "id": "f039faa2"
    },
    {
      "cell_type": "code",
      "source": [
        "graphdf = df[['Age', 'Outcome']] # Creating a smaller dataframe composed of only \"age\" and \"outcome\" columns\n",
        "diabetic = pd.DataFrame(graphdf[graphdf['Outcome'] == 1]) # Isolating those with diabetes\n",
        "nondiabetic = pd.DataFrame(graphdf[graphdf['Outcome'] == 0]) # Isolating those without diabetes"
      ],
      "outputs": [],
      "execution_count": null,
      "metadata": {
        "id": "ac3c7638"
      },
      "id": "ac3c7638"
    },
    {
      "cell_type": "code",
      "source": [
        "# Defining plot characteristics:\n",
        "n, bins, patches = plt.hist([diabetic[\"Age\"], nondiabetic[\"Age\"]], bins = [20, 30, 40, 50, 60, 70, 80, 90], color = [\"Blue\", \"Orange\"], label = ['Non-Diabetic', 'Diabetic'])\n",
        "\n",
        "plt.grid(color='white', lw = 0.5, axis='x')\n",
        "plt.title(\"Ages of Individuals in Pima Indians Diabetes Dataset\")\n",
        "plt.xlabel(\"Age (Years)\")\n",
        "plt.ylabel(\"Number of Individuals\")\n",
        "plt.legend()"
      ],
      "outputs": [
        {
          "output_type": "execute_result",
          "execution_count": 430,
          "data": {
            "text/plain": "<matplotlib.legend.Legend at 0x287115b9a30>"
          },
          "metadata": {}
        },
        {
          "output_type": "display_data",
          "data": {
            "image/png": "[encoded data removed]",
            "text/plain": "<Figure size 432x288 with 1 Axes>"
          },
          "metadata": {
            "needs_background": "light"
          }
        }
      ],
      "execution_count": null,
      "metadata": {
        "id": "c6f88534",
        "outputId": "efacdc11-cb1a-4204-eda1-5d3c2df8256e"
      },
      "id": "c6f88534"
    },
    {
      "cell_type": "markdown",
      "source": [
        "* The histogram above indicates that the majority (nearly 400) of the individuals in the dataset are between the ages of 20-30, which is below the mean age. This age group possesses the greatest number of diabetic individuals (around 80).\n",
        "* But going off of the given data, most diabetic individuals are between the ages of 20 and 40."
      ],
      "metadata": {
        "id": "X66jFgsK3LMc"
      },
      "id": "X66jFgsK3LMc"
    },
    {
      "cell_type": "markdown",
      "source": [
        "Comparing the BMI of indivudlas with and without diabetes:"
      ],
      "metadata": {
        "id": "GWwFllHt3P6E"
      },
      "id": "GWwFllHt3P6E"
    },
    {
      "cell_type": "code",
      "source": [
        "df.boxplot(\"BMI\", by = \"Outcome\")\n",
        "plt.ylabel(\"BMI\")\n",
        "plt.show()"
      ],
      "outputs": [
        {
          "output_type": "display_data",
          "data": {
            "image/png": "[encoded data removed]",
            "text/plain": "<Figure size 432x288 with 1 Axes>"
          },
          "metadata": {
            "needs_background": "light"
          }
        }
      ],
      "execution_count": null,
      "metadata": {
        "id": "ef8ec000",
        "outputId": "233fd145-038d-4789-f687-1c440f23a29f"
      },
      "id": "ef8ec000"
    },
    {
      "cell_type": "markdown",
      "source": [
        "* As seen above, the BMI median, minimum, and maximum values for diabetic individuals is greater than for non-diabetic individuals.\n",
        "* The median BMI of diabetic individuals is around 35, which is 5 points greater than the median value for nondiabetics.\n",
        "* There are also far more outliers exceeding a BMI of 50 in the diabetics class than in nondiabetics.\n",
        "* Overall, the diabetic individuals have greater BMIs than non-diabetic individuals."
      ],
      "metadata": {
        "id": "33466qIN3TL9"
      },
      "id": "33466qIN3TL9"
    },
    {
      "cell_type": "markdown",
      "source": [
        "## **Q5 - Use the data set to build a logistic regression model (using sklearn) and predict the class label. Divide the dataset into training and test set (70,30) using train_test_split method in sklearn.**"
      ],
      "metadata": {
        "id": "4e832293"
      },
      "id": "4e832293"
    },
    {
      "cell_type": "markdown",
      "source": [
        "Importing the required libraries:"
      ],
      "metadata": {
        "id": "jgms8gcV3ZhH"
      },
      "id": "jgms8gcV3ZhH"
    },
    {
      "cell_type": "code",
      "source": [
        "from sklearn.model_selection import train_test_split\n",
        "from sklearn.linear_model import LogisticRegression"
      ],
      "outputs": [],
      "execution_count": null,
      "metadata": {
        "id": "5cca1e15"
      },
      "id": "5cca1e15"
    },
    {
      "cell_type": "markdown",
      "source": [
        "Defining hte independent and dependent variables:"
      ],
      "metadata": {
        "id": "y85iPKHl3b6K"
      },
      "id": "y85iPKHl3b6K"
    },
    {
      "cell_type": "code",
      "source": [
        "x = df[['Pregnancies', 'Glucose', 'BloodPressure', 'SkinThickness', 'Insulin', 'BMI', 'DiabetesPedigreeFunction', 'Age']].values\n",
        "y = df['Outcome'].values"
      ],
      "outputs": [],
      "execution_count": null,
      "metadata": {
        "id": "b19439a0"
      },
      "id": "b19439a0"
    },
    {
      "cell_type": "markdown",
      "source": [
        "Reshaping y to be compatible with out model:"
      ],
      "metadata": {
        "id": "DSlcLhRq3e5O"
      },
      "id": "DSlcLhRq3e5O"
    },
    {
      "cell_type": "code",
      "source": [
        "y = y.reshape(-1,1)"
      ],
      "outputs": [],
      "execution_count": null,
      "metadata": {
        "id": "3b6ededb"
      },
      "id": "3b6ededb"
    },
    {
      "cell_type": "markdown",
      "source": [
        "Splitting x and y into train and test sets:"
      ],
      "metadata": {
        "id": "zofXocT43lXS"
      },
      "id": "zofXocT43lXS"
    },
    {
      "cell_type": "code",
      "source": [
        "x_train, x_test,y_train,y_test = train_test_split(x,y,test_size = 0.3, random_state = 37)"
      ],
      "outputs": [],
      "execution_count": null,
      "metadata": {
        "id": "86e79cda"
      },
      "id": "86e79cda"
    },
    {
      "cell_type": "code",
      "source": [
        "print(\"Shapes of the Different Sets:\")\n",
        "print(\"Boston Dataframe:\", df.shape)\n",
        "print(\"Input Training set\", x_train.shape)\n",
        "print(\"Output Training set\", y_train.shape)\n",
        "print(\"Input Testing set\", x_test.shape)\n",
        "print(\"Output Testing set\", y_test.shape)"
      ],
      "outputs": [
        {
          "output_type": "stream",
          "name": "stdout",
          "text": "Shapes of the Different Sets:\nBoston Dataframe: (757, 9)\nInput Training set (529, 8)\nOutput Training set (529, 1)\nInput Testing set (228, 8)\nOutput Testing set (228, 1)\n"
        }
      ],
      "execution_count": null,
      "metadata": {
        "id": "6cca7a87",
        "outputId": "015a98a0-04ec-41a4-e118-987e761aabf0"
      },
      "id": "6cca7a87"
    },
    {
      "cell_type": "markdown",
      "source": [
        "### The Model:"
      ],
      "metadata": {
        "id": "gwI6xB7p3oxJ"
      },
      "id": "gwI6xB7p3oxJ"
    },
    {
      "cell_type": "code",
      "source": [
        "Pred_Model = LogisticRegression() # Creating an instance of the logistic regression model"
      ],
      "outputs": [],
      "execution_count": null,
      "metadata": {
        "id": "9d96c867"
      },
      "id": "9d96c867"
    },
    {
      "cell_type": "code",
      "source": [
        "Pred_Model.fit(x_train,y_train) # Training our model instance on our training data"
      ],
      "outputs": [
        {
          "output_type": "stream",
          "name": "stderr",
          "text": "C:\\Users\\gouri\\ANACONDA\\lib\\site-packages\\sklearn\\utils\\validation.py:63: DataConversionWarning: A column-vector y was passed when a 1d array was expected. Please change the shape of y to (n_samples, ), for example using ravel().\n  return f(*args, **kwargs)\nC:\\Users\\gouri\\ANACONDA\\lib\\site-packages\\sklearn\\linear_model\\_logistic.py:763: ConvergenceWarning: lbfgs failed to converge (status=1):\nSTOP: TOTAL NO. of ITERATIONS REACHED LIMIT.\n\nIncrease the number of iterations (max_iter) or scale the data as shown in:\n    https://scikit-learn.org/stable/modules/preprocessing.html\nPlease also refer to the documentation for alternative solver options:\n    https://scikit-learn.org/stable/modules/linear_model.html#logistic-regression\n  n_iter_i = _check_optimize_result(\n"
        },
        {
          "output_type": "execute_result",
          "execution_count": 440,
          "data": {
            "text/plain": "LogisticRegression()"
          },
          "metadata": {}
        }
      ],
      "execution_count": null,
      "metadata": {
        "scrolled": true,
        "id": "440d6aa9",
        "outputId": "cd663470-ee31-4cae-95b2-7c9febd6af84"
      },
      "id": "440d6aa9"
    },
    {
      "cell_type": "markdown",
      "source": [
        "## **Q6 - Use the test data set and evaluate the performance using a confusion matrix. Visualize the confusion matrix using a heat map.**"
      ],
      "metadata": {
        "id": "a1036813"
      },
      "id": "a1036813"
    },
    {
      "cell_type": "code",
      "source": [
        "from sklearn import metrics"
      ],
      "outputs": [],
      "execution_count": null,
      "metadata": {
        "id": "1c2718fb"
      },
      "id": "1c2718fb"
    },
    {
      "cell_type": "code",
      "source": [
        "# Obtaining model predictions for whether or not an individual is diabetic\n",
        "predictions = Pred_Model.predict(x_test)"
      ],
      "outputs": [],
      "execution_count": null,
      "metadata": {
        "id": "c661789a"
      },
      "id": "c661789a"
    },
    {
      "cell_type": "code",
      "source": [
        "predictions"
      ],
      "outputs": [
        {
          "output_type": "execute_result",
          "execution_count": 443,
          "data": {
            "text/plain": "array([1, 0, 1, 0, 0, 1, 0, 0, 0, 1, 0, 1, 0, 0, 0, 0, 1, 0, 0, 1, 0, 0,\n       1, 0, 1, 0, 0, 0, 1, 0, 0, 0, 0, 0, 0, 1, 1, 0, 0, 1, 0, 0, 0, 1,\n       0, 0, 1, 1, 0, 0, 0, 0, 1, 0, 1, 0, 0, 0, 1, 0, 0, 0, 0, 1, 0, 0,\n       0, 0, 0, 0, 1, 1, 0, 0, 1, 1, 0, 0, 1, 0, 0, 0, 0, 0, 1, 1, 1, 1,\n       1, 0, 0, 0, 0, 1, 0, 0, 0, 1, 1, 0, 0, 1, 0, 0, 1, 0, 0, 0, 1, 0,\n       0, 1, 0, 0, 0, 0, 1, 0, 0, 0, 1, 0, 0, 1, 0, 0, 0, 0, 0, 0, 1, 0,\n       1, 0, 0, 1, 0, 0, 0, 0, 0, 1, 0, 1, 0, 0, 0, 0, 0, 0, 0, 1, 0, 1,\n       0, 1, 0, 0, 0, 0, 0, 0, 0, 0, 1, 0, 0, 0, 1, 0, 0, 1, 0, 1, 0, 0,\n       0, 0, 0, 0, 0, 0, 0, 1, 0, 0, 0, 0, 0, 0, 0, 1, 1, 0, 0, 0, 1, 0,\n       0, 0, 1, 0, 0, 0, 1, 1, 0, 0, 1, 1, 0, 0, 0, 0, 0, 0, 0, 1, 0, 0,\n       1, 1, 1, 0, 1, 0, 0, 0], dtype=int64)"
          },
          "metadata": {}
        }
      ],
      "execution_count": null,
      "metadata": {
        "id": "2f1362e4",
        "outputId": "6565f30a-f72b-487b-81f8-4ebd9770f019"
      },
      "id": "2f1362e4"
    },
    {
      "cell_type": "markdown",
      "source": [
        "Displaying the results:"
      ],
      "metadata": {
        "id": "HcGmQj7H4IZ3"
      },
      "id": "HcGmQj7H4IZ3"
    },
    {
      "cell_type": "code",
      "source": [
        "from sklearn.metrics import confusion_matrix\n",
        "matrix = confusion_matrix(y_test, predictions) # Creating a confusion matrix\n",
        "matrix"
      ],
      "outputs": [
        {
          "output_type": "execute_result",
          "execution_count": 444,
          "data": {
            "text/plain": "array([[131,  25],\n       [ 31,  41]], dtype=int64)"
          },
          "metadata": {}
        }
      ],
      "execution_count": null,
      "metadata": {
        "id": "c6ce94ec",
        "outputId": "83985e83-9941-4929-ecc4-77d8f2ece93a"
      },
      "id": "c6ce94ec"
    },
    {
      "cell_type": "markdown",
      "source": [
        "Visualizing our confusion matrix:"
      ],
      "metadata": {
        "id": "G_U1gEkh4Npp"
      },
      "id": "G_U1gEkh4Npp"
    },
    {
      "cell_type": "code",
      "source": [
        "#top left = True Positive\n",
        "#top right = false positive\n",
        "#bottom left = false negative\n",
        "#bottom right = true negative\n",
        "\n",
        "sns.heatmap(matrix, annot=True, fmt = 'g')"
      ],
      "outputs": [
        {
          "output_type": "execute_result",
          "execution_count": 445,
          "data": {
            "text/plain": "<AxesSubplot:>"
          },
          "metadata": {}
        },
        {
          "output_type": "display_data",
          "data": {
            "image/png": "[encoded data removed]",
            "text/plain": "<Figure size 432x288 with 2 Axes>"
          },
          "metadata": {
            "needs_background": "light"
          }
        }
      ],
      "execution_count": null,
      "metadata": {
        "id": "eac2742a",
        "outputId": "4345e56b-dd49-4a0d-d1ab-11ab240b0e3d"
      },
      "id": "eac2742a"
    },
    {
      "cell_type": "code",
      "source": [
        "#Representing the same numbers as percentages of the test set: \n",
        "sns.heatmap(matrix/np.sum(matrix), annot=True, fmt='.2%', cmap='Blues')"
      ],
      "outputs": [
        {
          "output_type": "execute_result",
          "execution_count": 446,
          "data": {
            "text/plain": "<AxesSubplot:>"
          },
          "metadata": {}
        },
        {
          "output_type": "display_data",
          "data": {
            "image/png": "[encoded data removed]",
            "text/plain": "<Figure size 432x288 with 2 Axes>"
          },
          "metadata": {
            "needs_background": "light"
          }
        }
      ],
      "execution_count": null,
      "metadata": {
        "scrolled": true,
        "id": "d14197e3",
        "outputId": "f7138db7-2067-4395-9418-57e4b2be6be6"
      },
      "id": "d14197e3"
    },
    {
      "cell_type": "markdown",
      "source": [
        "Calculating more metrics:"
      ],
      "metadata": {
        "id": "Gf9-0le-4UT-"
      },
      "id": "Gf9-0le-4UT-"
    },
    {
      "cell_type": "code",
      "source": [
        "#Accuracy Rate = (True Positive + True Negative)/ all\n",
        "accuracy_rate = (matrix[0,0] + matrix[1,1]) / matrix.sum()\n",
        "accuracy_rate"
      ],
      "outputs": [
        {
          "output_type": "execute_result",
          "execution_count": 447,
          "data": {
            "text/plain": "0.7543859649122807"
          },
          "metadata": {}
        }
      ],
      "execution_count": null,
      "metadata": {
        "id": "de9cc974",
        "outputId": "5d2b98e2-fd85-409f-b43e-fcb53a5afba1"
      },
      "id": "de9cc974"
    },
    {
      "cell_type": "code",
      "source": [
        "#True Positive Rate = True Positive/ (True Positive + False Negative)\n",
        "true_positive_rate = matrix[0,0] / matrix[:, 0].sum()\n",
        "true_positive_rate"
      ],
      "outputs": [
        {
          "output_type": "execute_result",
          "execution_count": 448,
          "data": {
            "text/plain": "0.808641975308642"
          },
          "metadata": {}
        }
      ],
      "execution_count": null,
      "metadata": {
        "id": "ff19733e",
        "outputId": "c0218b5f-5b8e-4a05-dc7d-901d2eac0e89"
      },
      "id": "ff19733e"
    },
    {
      "cell_type": "code",
      "source": [
        "#True Negative Rate = True Negative/ (True Negative + False Positive)\n",
        "true_negative_rate = matrix[1,1] / matrix[:, 1].sum()\n",
        "true_negative_rate"
      ],
      "outputs": [
        {
          "output_type": "execute_result",
          "execution_count": 449,
          "data": {
            "text/plain": "0.6212121212121212"
          },
          "metadata": {}
        }
      ],
      "execution_count": null,
      "metadata": {
        "id": "ae6b5653",
        "outputId": "4c50de82-a8f5-4dcf-a8f6-a163d2c4bc36"
      },
      "id": "ae6b5653"
    },
    {
      "cell_type": "code",
      "source": [
        "false_positive_rate = matrix[0,1] / matrix[:, 1].sum()\n",
        "false_positive_rate"
      ],
      "outputs": [
        {
          "output_type": "execute_result",
          "execution_count": 450,
          "data": {
            "text/plain": "0.3787878787878788"
          },
          "metadata": {}
        }
      ],
      "execution_count": null,
      "metadata": {
        "id": "d810c98a",
        "outputId": "8581e6a4-8d65-47fc-f9d5-e146f75767aa"
      },
      "id": "d810c98a"
    },
    {
      "cell_type": "code",
      "source": [
        "false_negative_rate = matrix[1, 0] / matrix[:, 0].sum()\n",
        "false_negative_rate"
      ],
      "outputs": [
        {
          "output_type": "execute_result",
          "execution_count": 451,
          "data": {
            "text/plain": "0.19135802469135801"
          },
          "metadata": {}
        }
      ],
      "execution_count": null,
      "metadata": {
        "id": "d2a450c3",
        "outputId": "1edcf55e-f900-44cf-8ddc-c11e8f7661ce"
      },
      "id": "d2a450c3"
    },
    {
      "cell_type": "markdown",
      "source": [
        "* The true positive rate being above 80% indicates that this model predicts that individuals (who are actually diabetic) to be diabetic moderately well (accurately 80% of the time).\n",
        "* This is supported by the overall accuracy rate being around 75% (the model predicts whether a person is diabetic or nondiabetic correctly 75% of the time).\n"
      ],
      "metadata": {
        "id": "3dNyZDn74XYT"
      },
      "id": "3dNyZDn74XYT"
    },
    {
      "cell_type": "markdown",
      "source": [
        "* The model is not perfect, however, as it falsely predicts individuals to be diabetic nearly 38% of the time.\n",
        "* The model incorrectly predicts people to be nondiabetic nearly 20% of the time, meaning nearly 20% of patients who are actually diabetic will be predicted to be nondiabetic.\n",
        "* If basing diagnosis purely on this model, this particular group of patients will be at risk of worsening their health due to not receiving appropriate medical support on time."
      ],
      "metadata": {
        "id": "jjJvVEwI4bOE"
      },
      "id": "jjJvVEwI4bOE"
    },
    {
      "cell_type": "code",
      "source": [
        "#The ROC curve plots true positive rate and false positive rate\n",
        "from sklearn import metrics\n",
        "roc = Pred_Model.predict_proba(x_test)[::, 1]\n",
        "false_positive_rate, true_positive_rate , _ = metrics.roc_curve(y_test, roc)\n",
        "plt.plot(false_positive_rate,true_positive_rate)\n",
        "plt.title(\"ROC Curve\")\n",
        "plt.ylabel(\"True Positive Rate\")\n",
        "plt.xlabel(\"False Positive Rate\")\n",
        "plt.show()"
      ],
      "outputs": [
        {
          "output_type": "display_data",
          "data": {
            "image/png": "[encoded data removed]",
            "text/plain": "<Figure size 432x288 with 1 Axes>"
          },
          "metadata": {
            "needs_background": "light"
          }
        }
      ],
      "execution_count": null,
      "metadata": {
        "id": "83429a84",
        "outputId": "898856ed-f70e-4181-a17b-1d3998327a78"
      },
      "id": "83429a84"
    },
    {
      "cell_type": "markdown",
      "source": [
        "* Points on an ROC curve represent sensitivity & specificity pairs.\n",
        "* A perfect model would have an roc curve that passes through the upper left corner\n",
        "* The ROC curve above approaches and nearly crosses the corner, which indicates that the model is moderately accurate. "
      ],
      "metadata": {
        "id": "VsLVyYrW4idG"
      },
      "id": "VsLVyYrW4idG"
    }
  ],
  "metadata": {
    "kernelspec": {
      "display_name": "Python 3",
      "language": "python",
      "name": "python3"
    },
    "language_info": {
      "codemirror_mode": {
        "name": "ipython",
        "version": 3
      },
      "file_extension": ".py",
      "mimetype": "text/x-python",
      "name": "python",
      "nbconvert_exporter": "python",
      "pygments_lexer": "ipython3",
      "version": "3.8.8"
    },
    "nteract": {
      "version": "nteract-front-end@1.0.0"
    },
    "colab": {
      "provenance": []
    }
  },
  "nbformat": 4,
  "nbformat_minor": 5
}