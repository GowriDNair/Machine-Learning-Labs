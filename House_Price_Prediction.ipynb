{
  "cells": [
    {
      "cell_type": "markdown",
      "source": [
        "# 🏡 **House Price Prediction:** 🏠"
      ],
      "metadata": {
        "id": "b32e2971"
      },
      "id": "b32e2971"
    },
    {
      "cell_type": "markdown",
      "source": [
        "Importing standard libraries:"
      ],
      "metadata": {
        "id": "8StauqV_tWU9"
      },
      "id": "8StauqV_tWU9"
    },
    {
      "cell_type": "code",
      "source": [
        "import pandas as pd\n",
        "import numpy as np\n",
        "import seaborn as sns\n",
        "from matplotlib import pyplot as plt"
      ],
      "outputs": [],
      "execution_count": null,
      "metadata": {
        "id": "432776d5"
      },
      "id": "432776d5"
    },
    {
      "cell_type": "markdown",
      "source": [
        "## **Metadata:**"
      ],
      "metadata": {
        "id": "6bb160f3"
      },
      "id": "6bb160f3"
    },
    {
      "cell_type": "markdown",
      "source": [
        "SalePrice - the property's sale price in dollars\n",
        "\n",
        "MSSubClass: The building class\n",
        "\n",
        "MSZoning: The general zoning classification\n",
        "\n",
        "LotFrontage: Linear feet of street connected to property\n",
        "\n",
        "LotArea: Lot size in square feet\n",
        "\n",
        "Street: Type of road access\n",
        "\n",
        "Alley: Type of alley access\n",
        "\n",
        "LotShape: General shape of property\n",
        "\n",
        "LandContour: Flatness of the property\n",
        "\n",
        "Utilities: Type of utilities available\n",
        "\n",
        "LotConfig: Lot configuration\n",
        "\n",
        "LandSlope: Slope of property\n",
        "\n",
        "Neighborhood: Physical locations within Ames city limits\n",
        "\n",
        "Condition1: Proximity to main road or railroad\n",
        "\n",
        "Condition2: Proximity to main road or railroad (if a second is present)\n",
        "\n",
        "BldgType: Type of dwelling\n",
        "\n",
        "HouseStyle: Style of dwelling\n",
        "\n",
        "OverallQual: Overall material and finish quality\n",
        "\n",
        "OverallCond: Overall condition rating\n",
        "\n",
        "YearBuilt: Original construction date\n",
        "\n",
        "YearRemodAdd: Remodel date\n",
        "\n",
        "RoofStyle: Type of roof\n",
        "\n",
        "RoofMatl: Roof material\n",
        "\n",
        "Exterior1st: Exterior covering on house\n",
        "\n",
        "Exterior2nd: Exterior covering on house (if more than one material)\n",
        "\n",
        "MasVnrType: Masonry veneer type\n",
        "\n",
        "MasVnrArea: Masonry veneer area in square feet\n",
        "\n",
        "ExterQual: Exterior material quality\n",
        "\n",
        "ExterCond: Present condition of the material on the exterior\n",
        "\n",
        "Foundation: Type of foundation\n",
        "\n",
        "BsmtQual: Height of the basement\n",
        "\n",
        "BsmtCond: General condition of the basement\n",
        "\n",
        "BsmtExposure: Walkout or garden level basement walls\n",
        "\n",
        "BsmtFinType1: Quality of basement finished area\n",
        "\n",
        "BsmtFinSF1: Type 1 finished square feet\n",
        "\n",
        "BsmtFinType2: Quality of second finished area (if present)\n",
        "\n",
        "BsmtFinSF2: Type 2 finished square feet\n",
        "\n",
        "BsmtUnfSF: Unfinished square feet of basement area\n",
        "\n",
        "TotalBsmtSF: Total square feet of basement area\n",
        "\n",
        "Heating: Type of heating\n",
        "\n",
        "HeatingQC: Heating quality and condition\n",
        "\n",
        "CentralAir: Central air conditioning\n",
        "\n",
        "Electrical: Electrical system\n",
        "\n",
        "1stFlrSF: First Floor square feet\n",
        "\n",
        "2ndFlrSF: Second floor square feet\n",
        "\n",
        "LowQualFinSF: Low quality finished square feet (all floors)\n",
        "\n",
        "GrLivArea: Above grade (ground) living area square feet\n",
        "\n",
        "BsmtFullBath: Basement full bathrooms\n",
        "\n",
        "BsmtHalfBath: Basement half bathrooms\n",
        "\n",
        "FullBath: Full bathrooms above grade\n",
        "\n",
        "HalfBath: Half baths above grade\n",
        "\n",
        "Bedroom: Number of bedrooms above basement level\n",
        "\n",
        "Kitchen: Number of kitchens\n",
        "\n",
        "KitchenQual: Kitchen quality\n",
        "\n",
        "TotRmsAbvGrd: Total rooms above grade (does not include bathrooms)\n",
        "\n",
        "Functional: Home functionality rating\n",
        "\n",
        "Fireplaces: Number of fireplaces\n",
        "\n",
        "FireplaceQu: Fireplace quality\n",
        "\n",
        "GarageType: Garage location\n",
        "\n",
        "GarageYrBlt: Year garage was built\n",
        "\n",
        "GarageFinish: Interior finish of the garage\n",
        "\n",
        "GarageCars: Size of garage in car capacity\n",
        "\n",
        "GarageArea: Size of garage in square feet\n",
        "\n",
        "GarageQual: Garage quality\n",
        "\n",
        "GarageCond: Garage condition\n",
        "\n",
        "PavedDrive: Paved driveway\n",
        "\n",
        "WoodDeckSF: Wood deck area in square feet\n",
        "\n",
        "OpenPorchSF: Open porch area in square feet\n",
        "\n",
        "EnclosedPorch: Enclosed porch area in square feet\n",
        "\n",
        "3SsnPorch: Three season porch area in square feet\n",
        "\n",
        "ScreenPorch: Screen porch area in square feet\n",
        "\n",
        "PoolArea: Pool area in square feet\n",
        "\n",
        "PoolQC: Pool quality\n",
        "\n",
        "Fence: Fence quality\n",
        "\n",
        "MiscFeature: Miscellaneous feature not covered in other categories\n",
        "\n",
        "MiscVal: $Value of miscellaneous feature\n",
        "\n",
        "MoSold: Month Sold\n",
        "\n",
        "YrSold: Year Sold\n",
        "\n",
        "SaleType: Type of sale\n",
        "\n",
        "SaleCondition: Condition of sale"
      ],
      "metadata": {
        "id": "6c45a177"
      },
      "id": "6c45a177"
    },
    {
      "cell_type": "markdown",
      "source": [
        "Importing data:"
      ],
      "metadata": {
        "id": "JuVt0meWtg6W"
      },
      "id": "JuVt0meWtg6W"
    },
    {
      "cell_type": "code",
      "source": [
        "df = pd.read_csv('HousePrice.csv', skipinitialspace = True)\n",
        "df.head()"
      ],
      "outputs": [
        {
          "output_type": "execute_result",
          "execution_count": 24,
          "data": {
            "text/html": "<div>\n<style scoped>\n    .dataframe tbody tr th:only-of-type {\n        vertical-align: middle;\n    }\n\n    .dataframe tbody tr th {\n        vertical-align: top;\n    }\n\n    .dataframe thead th {\n        text-align: right;\n    }\n</style>\n<table border=\"1\" class=\"dataframe\">\n  <thead>\n    <tr style=\"text-align: right;\">\n      <th></th>\n      <th>Id</th>\n      <th>MSSubClass</th>\n      <th>MSZoning</th>\n      <th>LotFrontage</th>\n      <th>LotArea</th>\n      <th>Street</th>\n      <th>Alley</th>\n      <th>LotShape</th>\n      <th>LandContour</th>\n      <th>Utilities</th>\n      <th>...</th>\n      <th>PoolArea</th>\n      <th>PoolQC</th>\n      <th>Fence</th>\n      <th>MiscFeature</th>\n      <th>MiscVal</th>\n      <th>MoSold</th>\n      <th>YrSold</th>\n      <th>SaleType</th>\n      <th>SaleCondition</th>\n      <th>SalePrice</th>\n    </tr>\n  </thead>\n  <tbody>\n    <tr>\n      <th>0</th>\n      <td>1</td>\n      <td>60</td>\n      <td>RL</td>\n      <td>65.0</td>\n      <td>8450</td>\n      <td>Pave</td>\n      <td>NaN</td>\n      <td>Reg</td>\n      <td>Lvl</td>\n      <td>AllPub</td>\n      <td>...</td>\n      <td>0</td>\n      <td>NaN</td>\n      <td>NaN</td>\n      <td>NaN</td>\n      <td>0</td>\n      <td>2</td>\n      <td>2008</td>\n      <td>WD</td>\n      <td>Normal</td>\n      <td>208500</td>\n    </tr>\n    <tr>\n      <th>1</th>\n      <td>2</td>\n      <td>20</td>\n      <td>RL</td>\n      <td>80.0</td>\n      <td>9600</td>\n      <td>Pave</td>\n      <td>NaN</td>\n      <td>Reg</td>\n      <td>Lvl</td>\n      <td>AllPub</td>\n      <td>...</td>\n      <td>0</td>\n      <td>NaN</td>\n      <td>NaN</td>\n      <td>NaN</td>\n      <td>0</td>\n      <td>5</td>\n      <td>2007</td>\n      <td>WD</td>\n      <td>Normal</td>\n      <td>181500</td>\n    </tr>\n    <tr>\n      <th>2</th>\n      <td>3</td>\n      <td>60</td>\n      <td>RL</td>\n      <td>68.0</td>\n      <td>11250</td>\n      <td>Pave</td>\n      <td>NaN</td>\n      <td>IR1</td>\n      <td>Lvl</td>\n      <td>AllPub</td>\n      <td>...</td>\n      <td>0</td>\n      <td>NaN</td>\n      <td>NaN</td>\n      <td>NaN</td>\n      <td>0</td>\n      <td>9</td>\n      <td>2008</td>\n      <td>WD</td>\n      <td>Normal</td>\n      <td>223500</td>\n    </tr>\n    <tr>\n      <th>3</th>\n      <td>4</td>\n      <td>70</td>\n      <td>RL</td>\n      <td>60.0</td>\n      <td>9550</td>\n      <td>Pave</td>\n      <td>NaN</td>\n      <td>IR1</td>\n      <td>Lvl</td>\n      <td>AllPub</td>\n      <td>...</td>\n      <td>0</td>\n      <td>NaN</td>\n      <td>NaN</td>\n      <td>NaN</td>\n      <td>0</td>\n      <td>2</td>\n      <td>2006</td>\n      <td>WD</td>\n      <td>Abnorml</td>\n      <td>140000</td>\n    </tr>\n    <tr>\n      <th>4</th>\n      <td>5</td>\n      <td>60</td>\n      <td>RL</td>\n      <td>84.0</td>\n      <td>14260</td>\n      <td>Pave</td>\n      <td>NaN</td>\n      <td>IR1</td>\n      <td>Lvl</td>\n      <td>AllPub</td>\n      <td>...</td>\n      <td>0</td>\n      <td>NaN</td>\n      <td>NaN</td>\n      <td>NaN</td>\n      <td>0</td>\n      <td>12</td>\n      <td>2008</td>\n      <td>WD</td>\n      <td>Normal</td>\n      <td>250000</td>\n    </tr>\n  </tbody>\n</table>\n<p>5 rows × 81 columns</p>\n</div>",
            "text/plain": "   Id  MSSubClass MSZoning  LotFrontage  LotArea Street Alley LotShape  \\\n0   1          60       RL         65.0     8450   Pave   NaN      Reg   \n1   2          20       RL         80.0     9600   Pave   NaN      Reg   \n2   3          60       RL         68.0    11250   Pave   NaN      IR1   \n3   4          70       RL         60.0     9550   Pave   NaN      IR1   \n4   5          60       RL         84.0    14260   Pave   NaN      IR1   \n\n  LandContour Utilities  ... PoolArea PoolQC Fence MiscFeature MiscVal MoSold  \\\n0         Lvl    AllPub  ...        0    NaN   NaN         NaN       0      2   \n1         Lvl    AllPub  ...        0    NaN   NaN         NaN       0      5   \n2         Lvl    AllPub  ...        0    NaN   NaN         NaN       0      9   \n3         Lvl    AllPub  ...        0    NaN   NaN         NaN       0      2   \n4         Lvl    AllPub  ...        0    NaN   NaN         NaN       0     12   \n\n  YrSold  SaleType  SaleCondition  SalePrice  \n0   2008        WD         Normal     208500  \n1   2007        WD         Normal     181500  \n2   2008        WD         Normal     223500  \n3   2006        WD        Abnorml     140000  \n4   2008        WD         Normal     250000  \n\n[5 rows x 81 columns]"
          },
          "metadata": {}
        }
      ],
      "execution_count": null,
      "metadata": {
        "scrolled": false,
        "id": "2cc0db94",
        "outputId": "0cc9c1e0-d547-4085-ff2a-fd4582b6b534"
      },
      "id": "2cc0db94"
    },
    {
      "cell_type": "code",
      "source": [
        "df.shape"
      ],
      "outputs": [
        {
          "output_type": "execute_result",
          "execution_count": 25,
          "data": {
            "text/plain": "(1460, 81)"
          },
          "metadata": {}
        }
      ],
      "execution_count": null,
      "metadata": {
        "id": "5146bbf9",
        "outputId": "6b7f8924-2fe1-4fd1-84af-9c1d5937249e"
      },
      "id": "5146bbf9"
    },
    {
      "cell_type": "markdown",
      "source": [
        "## **Q1 - Perform the preprocessing if required, scale the train and test data using standard scaler.**"
      ],
      "metadata": {
        "id": "7b7d8176"
      },
      "id": "7b7d8176"
    },
    {
      "cell_type": "code",
      "source": [
        "# Understanding how many non-null values each column has, as well as what data type each column's values are:\n",
        "df.info()"
      ],
      "outputs": [
        {
          "output_type": "stream",
          "name": "stdout",
          "text": "<class 'pandas.core.frame.DataFrame'>\nRangeIndex: 1460 entries, 0 to 1459\nData columns (total 81 columns):\n #   Column         Non-Null Count  Dtype  \n---  ------         --------------  -----  \n 0   Id             1460 non-null   int64  \n 1   MSSubClass     1460 non-null   int64  \n 2   MSZoning       1460 non-null   object \n 3   LotFrontage    1201 non-null   float64\n 4   LotArea        1460 non-null   int64  \n 5   Street         1460 non-null   object \n 6   Alley          91 non-null     object \n 7   LotShape       1460 non-null   object \n 8   LandContour    1460 non-null   object \n 9   Utilities      1460 non-null   object \n 10  LotConfig      1460 non-null   object \n 11  LandSlope      1460 non-null   object \n 12  Neighborhood   1460 non-null   object \n 13  Condition1     1460 non-null   object \n 14  Condition2     1460 non-null   object \n 15  BldgType       1460 non-null   object \n 16  HouseStyle     1460 non-null   object \n 17  OverallQual    1460 non-null   int64  \n 18  OverallCond    1460 non-null   int64  \n 19  YearBuilt      1460 non-null   int64  \n 20  YearRemodAdd   1460 non-null   int64  \n 21  RoofStyle      1460 non-null   object \n 22  RoofMatl       1460 non-null   object \n 23  Exterior1st    1460 non-null   object \n 24  Exterior2nd    1460 non-null   object \n 25  MasVnrType     1452 non-null   object \n 26  MasVnrArea     1452 non-null   float64\n 27  ExterQual      1460 non-null   object \n 28  ExterCond      1460 non-null   object \n 29  Foundation     1460 non-null   object \n 30  BsmtQual       1423 non-null   object \n 31  BsmtCond       1423 non-null   object \n 32  BsmtExposure   1422 non-null   object \n 33  BsmtFinType1   1423 non-null   object \n 34  BsmtFinSF1     1460 non-null   int64  \n 35  BsmtFinType2   1422 non-null   object \n 36  BsmtFinSF2     1460 non-null   int64  \n 37  BsmtUnfSF      1460 non-null   int64  \n 38  TotalBsmtSF    1460 non-null   int64  \n 39  Heating        1460 non-null   object \n 40  HeatingQC      1460 non-null   object \n 41  CentralAir     1460 non-null   object \n 42  Electrical     1459 non-null   object \n 43  1stFlrSF       1460 non-null   int64  \n 44  2ndFlrSF       1460 non-null   int64  \n 45  LowQualFinSF   1460 non-null   int64  \n 46  GrLivArea      1460 non-null   int64  \n 47  BsmtFullBath   1460 non-null   int64  \n 48  BsmtHalfBath   1460 non-null   int64  \n 49  FullBath       1460 non-null   int64  \n 50  HalfBath       1460 non-null   int64  \n 51  BedroomAbvGr   1460 non-null   int64  \n 52  KitchenAbvGr   1460 non-null   int64  \n 53  KitchenQual    1460 non-null   object \n 54  TotRmsAbvGrd   1460 non-null   int64  \n 55  Functional     1460 non-null   object \n 56  Fireplaces     1460 non-null   int64  \n 57  FireplaceQu    770 non-null    object \n 58  GarageType     1379 non-null   object \n 59  GarageYrBlt    1379 non-null   float64\n 60  GarageFinish   1379 non-null   object \n 61  GarageCars     1460 non-null   int64  \n 62  GarageArea     1460 non-null   int64  \n 63  GarageQual     1379 non-null   object \n 64  GarageCond     1379 non-null   object \n 65  PavedDrive     1460 non-null   object \n 66  WoodDeckSF     1460 non-null   int64  \n 67  OpenPorchSF    1460 non-null   int64  \n 68  EnclosedPorch  1460 non-null   int64  \n 69  3SsnPorch      1460 non-null   int64  \n 70  ScreenPorch    1460 non-null   int64  \n 71  PoolArea       1460 non-null   int64  \n 72  PoolQC         7 non-null      object \n 73  Fence          281 non-null    object \n 74  MiscFeature    54 non-null     object \n 75  MiscVal        1460 non-null   int64  \n 76  MoSold         1460 non-null   int64  \n 77  YrSold         1460 non-null   int64  \n 78  SaleType       1460 non-null   object \n 79  SaleCondition  1460 non-null   object \n 80  SalePrice      1460 non-null   int64  \ndtypes: float64(3), int64(35), object(43)\nmemory usage: 924.0+ KB\n"
        }
      ],
      "execution_count": null,
      "metadata": {
        "id": "17a24f36",
        "outputId": "233e8571-991e-4d2f-a07c-4270d2c67151"
      },
      "id": "17a24f36"
    },
    {
      "cell_type": "code",
      "source": [
        "# Dropping ID as it is simply an identifier and irrelevant to our models:\n",
        "df.drop('Id', axis=1, inplace=True)\n",
        "df.head()"
      ],
      "outputs": [
        {
          "output_type": "execute_result",
          "execution_count": 27,
          "data": {
            "text/html": "<div>\n<style scoped>\n    .dataframe tbody tr th:only-of-type {\n        vertical-align: middle;\n    }\n\n    .dataframe tbody tr th {\n        vertical-align: top;\n    }\n\n    .dataframe thead th {\n        text-align: right;\n    }\n</style>\n<table border=\"1\" class=\"dataframe\">\n  <thead>\n    <tr style=\"text-align: right;\">\n      <th></th>\n      <th>MSSubClass</th>\n      <th>MSZoning</th>\n      <th>LotFrontage</th>\n      <th>LotArea</th>\n      <th>Street</th>\n      <th>Alley</th>\n      <th>LotShape</th>\n      <th>LandContour</th>\n      <th>Utilities</th>\n      <th>LotConfig</th>\n      <th>...</th>\n      <th>PoolArea</th>\n      <th>PoolQC</th>\n      <th>Fence</th>\n      <th>MiscFeature</th>\n      <th>MiscVal</th>\n      <th>MoSold</th>\n      <th>YrSold</th>\n      <th>SaleType</th>\n      <th>SaleCondition</th>\n      <th>SalePrice</th>\n    </tr>\n  </thead>\n  <tbody>\n    <tr>\n      <th>0</th>\n      <td>60</td>\n      <td>RL</td>\n      <td>65.0</td>\n      <td>8450</td>\n      <td>Pave</td>\n      <td>NaN</td>\n      <td>Reg</td>\n      <td>Lvl</td>\n      <td>AllPub</td>\n      <td>Inside</td>\n      <td>...</td>\n      <td>0</td>\n      <td>NaN</td>\n      <td>NaN</td>\n      <td>NaN</td>\n      <td>0</td>\n      <td>2</td>\n      <td>2008</td>\n      <td>WD</td>\n      <td>Normal</td>\n      <td>208500</td>\n    </tr>\n    <tr>\n      <th>1</th>\n      <td>20</td>\n      <td>RL</td>\n      <td>80.0</td>\n      <td>9600</td>\n      <td>Pave</td>\n      <td>NaN</td>\n      <td>Reg</td>\n      <td>Lvl</td>\n      <td>AllPub</td>\n      <td>FR2</td>\n      <td>...</td>\n      <td>0</td>\n      <td>NaN</td>\n      <td>NaN</td>\n      <td>NaN</td>\n      <td>0</td>\n      <td>5</td>\n      <td>2007</td>\n      <td>WD</td>\n      <td>Normal</td>\n      <td>181500</td>\n    </tr>\n    <tr>\n      <th>2</th>\n      <td>60</td>\n      <td>RL</td>\n      <td>68.0</td>\n      <td>11250</td>\n      <td>Pave</td>\n      <td>NaN</td>\n      <td>IR1</td>\n      <td>Lvl</td>\n      <td>AllPub</td>\n      <td>Inside</td>\n      <td>...</td>\n      <td>0</td>\n      <td>NaN</td>\n      <td>NaN</td>\n      <td>NaN</td>\n      <td>0</td>\n      <td>9</td>\n      <td>2008</td>\n      <td>WD</td>\n      <td>Normal</td>\n      <td>223500</td>\n    </tr>\n    <tr>\n      <th>3</th>\n      <td>70</td>\n      <td>RL</td>\n      <td>60.0</td>\n      <td>9550</td>\n      <td>Pave</td>\n      <td>NaN</td>\n      <td>IR1</td>\n      <td>Lvl</td>\n      <td>AllPub</td>\n      <td>Corner</td>\n      <td>...</td>\n      <td>0</td>\n      <td>NaN</td>\n      <td>NaN</td>\n      <td>NaN</td>\n      <td>0</td>\n      <td>2</td>\n      <td>2006</td>\n      <td>WD</td>\n      <td>Abnorml</td>\n      <td>140000</td>\n    </tr>\n    <tr>\n      <th>4</th>\n      <td>60</td>\n      <td>RL</td>\n      <td>84.0</td>\n      <td>14260</td>\n      <td>Pave</td>\n      <td>NaN</td>\n      <td>IR1</td>\n      <td>Lvl</td>\n      <td>AllPub</td>\n      <td>FR2</td>\n      <td>...</td>\n      <td>0</td>\n      <td>NaN</td>\n      <td>NaN</td>\n      <td>NaN</td>\n      <td>0</td>\n      <td>12</td>\n      <td>2008</td>\n      <td>WD</td>\n      <td>Normal</td>\n      <td>250000</td>\n    </tr>\n  </tbody>\n</table>\n<p>5 rows × 80 columns</p>\n</div>",
            "text/plain": "   MSSubClass MSZoning  LotFrontage  LotArea Street Alley LotShape  \\\n0          60       RL         65.0     8450   Pave   NaN      Reg   \n1          20       RL         80.0     9600   Pave   NaN      Reg   \n2          60       RL         68.0    11250   Pave   NaN      IR1   \n3          70       RL         60.0     9550   Pave   NaN      IR1   \n4          60       RL         84.0    14260   Pave   NaN      IR1   \n\n  LandContour Utilities LotConfig  ... PoolArea PoolQC Fence MiscFeature  \\\n0         Lvl    AllPub    Inside  ...        0    NaN   NaN         NaN   \n1         Lvl    AllPub       FR2  ...        0    NaN   NaN         NaN   \n2         Lvl    AllPub    Inside  ...        0    NaN   NaN         NaN   \n3         Lvl    AllPub    Corner  ...        0    NaN   NaN         NaN   \n4         Lvl    AllPub       FR2  ...        0    NaN   NaN         NaN   \n\n  MiscVal MoSold  YrSold  SaleType  SaleCondition  SalePrice  \n0       0      2    2008        WD         Normal     208500  \n1       0      5    2007        WD         Normal     181500  \n2       0      9    2008        WD         Normal     223500  \n3       0      2    2006        WD        Abnorml     140000  \n4       0     12    2008        WD         Normal     250000  \n\n[5 rows x 80 columns]"
          },
          "metadata": {}
        }
      ],
      "execution_count": null,
      "metadata": {
        "scrolled": true,
        "id": "c0a281a1",
        "outputId": "9a7da29a-931b-4958-8891-b6d745ac7a6f"
      },
      "id": "c0a281a1"
    },
    {
      "cell_type": "markdown",
      "source": [
        "## **Q2 - Split the dataset into train size of 70% and test size of 30% and Apply the Ridge and Lasso regression and fit the model containing all independent variables.**"
      ],
      "metadata": {
        "id": "83c696db"
      },
      "id": "83c696db"
    },
    {
      "cell_type": "code",
      "source": [
        "# Splitting the data into independent and dependent variables\n",
        "x = df\n",
        "y = x.pop('SalePrice')\n",
        "\n",
        "x.head()"
      ],
      "outputs": [
        {
          "output_type": "execute_result",
          "execution_count": 28,
          "data": {
            "text/html": "<div>\n<style scoped>\n    .dataframe tbody tr th:only-of-type {\n        vertical-align: middle;\n    }\n\n    .dataframe tbody tr th {\n        vertical-align: top;\n    }\n\n    .dataframe thead th {\n        text-align: right;\n    }\n</style>\n<table border=\"1\" class=\"dataframe\">\n  <thead>\n    <tr style=\"text-align: right;\">\n      <th></th>\n      <th>MSSubClass</th>\n      <th>MSZoning</th>\n      <th>LotFrontage</th>\n      <th>LotArea</th>\n      <th>Street</th>\n      <th>Alley</th>\n      <th>LotShape</th>\n      <th>LandContour</th>\n      <th>Utilities</th>\n      <th>LotConfig</th>\n      <th>...</th>\n      <th>ScreenPorch</th>\n      <th>PoolArea</th>\n      <th>PoolQC</th>\n      <th>Fence</th>\n      <th>MiscFeature</th>\n      <th>MiscVal</th>\n      <th>MoSold</th>\n      <th>YrSold</th>\n      <th>SaleType</th>\n      <th>SaleCondition</th>\n    </tr>\n  </thead>\n  <tbody>\n    <tr>\n      <th>0</th>\n      <td>60</td>\n      <td>RL</td>\n      <td>65.0</td>\n      <td>8450</td>\n      <td>Pave</td>\n      <td>NaN</td>\n      <td>Reg</td>\n      <td>Lvl</td>\n      <td>AllPub</td>\n      <td>Inside</td>\n      <td>...</td>\n      <td>0</td>\n      <td>0</td>\n      <td>NaN</td>\n      <td>NaN</td>\n      <td>NaN</td>\n      <td>0</td>\n      <td>2</td>\n      <td>2008</td>\n      <td>WD</td>\n      <td>Normal</td>\n    </tr>\n    <tr>\n      <th>1</th>\n      <td>20</td>\n      <td>RL</td>\n      <td>80.0</td>\n      <td>9600</td>\n      <td>Pave</td>\n      <td>NaN</td>\n      <td>Reg</td>\n      <td>Lvl</td>\n      <td>AllPub</td>\n      <td>FR2</td>\n      <td>...</td>\n      <td>0</td>\n      <td>0</td>\n      <td>NaN</td>\n      <td>NaN</td>\n      <td>NaN</td>\n      <td>0</td>\n      <td>5</td>\n      <td>2007</td>\n      <td>WD</td>\n      <td>Normal</td>\n    </tr>\n    <tr>\n      <th>2</th>\n      <td>60</td>\n      <td>RL</td>\n      <td>68.0</td>\n      <td>11250</td>\n      <td>Pave</td>\n      <td>NaN</td>\n      <td>IR1</td>\n      <td>Lvl</td>\n      <td>AllPub</td>\n      <td>Inside</td>\n      <td>...</td>\n      <td>0</td>\n      <td>0</td>\n      <td>NaN</td>\n      <td>NaN</td>\n      <td>NaN</td>\n      <td>0</td>\n      <td>9</td>\n      <td>2008</td>\n      <td>WD</td>\n      <td>Normal</td>\n    </tr>\n    <tr>\n      <th>3</th>\n      <td>70</td>\n      <td>RL</td>\n      <td>60.0</td>\n      <td>9550</td>\n      <td>Pave</td>\n      <td>NaN</td>\n      <td>IR1</td>\n      <td>Lvl</td>\n      <td>AllPub</td>\n      <td>Corner</td>\n      <td>...</td>\n      <td>0</td>\n      <td>0</td>\n      <td>NaN</td>\n      <td>NaN</td>\n      <td>NaN</td>\n      <td>0</td>\n      <td>2</td>\n      <td>2006</td>\n      <td>WD</td>\n      <td>Abnorml</td>\n    </tr>\n    <tr>\n      <th>4</th>\n      <td>60</td>\n      <td>RL</td>\n      <td>84.0</td>\n      <td>14260</td>\n      <td>Pave</td>\n      <td>NaN</td>\n      <td>IR1</td>\n      <td>Lvl</td>\n      <td>AllPub</td>\n      <td>FR2</td>\n      <td>...</td>\n      <td>0</td>\n      <td>0</td>\n      <td>NaN</td>\n      <td>NaN</td>\n      <td>NaN</td>\n      <td>0</td>\n      <td>12</td>\n      <td>2008</td>\n      <td>WD</td>\n      <td>Normal</td>\n    </tr>\n  </tbody>\n</table>\n<p>5 rows × 79 columns</p>\n</div>",
            "text/plain": "   MSSubClass MSZoning  LotFrontage  LotArea Street Alley LotShape  \\\n0          60       RL         65.0     8450   Pave   NaN      Reg   \n1          20       RL         80.0     9600   Pave   NaN      Reg   \n2          60       RL         68.0    11250   Pave   NaN      IR1   \n3          70       RL         60.0     9550   Pave   NaN      IR1   \n4          60       RL         84.0    14260   Pave   NaN      IR1   \n\n  LandContour Utilities LotConfig  ... ScreenPorch PoolArea PoolQC Fence  \\\n0         Lvl    AllPub    Inside  ...           0        0    NaN   NaN   \n1         Lvl    AllPub       FR2  ...           0        0    NaN   NaN   \n2         Lvl    AllPub    Inside  ...           0        0    NaN   NaN   \n3         Lvl    AllPub    Corner  ...           0        0    NaN   NaN   \n4         Lvl    AllPub       FR2  ...           0        0    NaN   NaN   \n\n  MiscFeature MiscVal  MoSold  YrSold  SaleType  SaleCondition  \n0         NaN       0       2    2008        WD         Normal  \n1         NaN       0       5    2007        WD         Normal  \n2         NaN       0       9    2008        WD         Normal  \n3         NaN       0       2    2006        WD        Abnorml  \n4         NaN       0      12    2008        WD         Normal  \n\n[5 rows x 79 columns]"
          },
          "metadata": {}
        }
      ],
      "execution_count": null,
      "metadata": {
        "id": "67a32ba2",
        "outputId": "d725ac37-d66d-403a-8205-8f4f0487213d"
      },
      "id": "67a32ba2"
    },
    {
      "cell_type": "code",
      "source": [
        "from sklearn.model_selection import train_test_split"
      ],
      "outputs": [],
      "execution_count": null,
      "metadata": {
        "id": "8a216a2d"
      },
      "id": "8a216a2d"
    },
    {
      "cell_type": "markdown",
      "source": [
        "Splitting the data so that 30% of it is used for testing while the rest will be used to train the models."
      ],
      "metadata": {
        "id": "E29qCT8gt4BF"
      },
      "id": "E29qCT8gt4BF"
    },
    {
      "cell_type": "code",
      "source": [
        "X_train, X_test, y_train, y_test = train_test_split(x, y, test_size=0.3, random_state=42)"
      ],
      "outputs": [],
      "execution_count": null,
      "metadata": {
        "id": "e393fd27"
      },
      "id": "e393fd27"
    },
    {
      "cell_type": "code",
      "source": [
        "# Defining the numerical and categorical columns in the data\n",
        "\n",
        "num_cols   = [col for col in x.columns if x[col].dtype in ['int64', 'float64']]\n",
        "cat_cols = [col for col in x.columns if x[col].dtype == 'object']"
      ],
      "outputs": [],
      "execution_count": null,
      "metadata": {
        "id": "9a82c0d0"
      },
      "id": "9a82c0d0"
    },
    {
      "cell_type": "markdown",
      "source": [
        "Importing the required libraries to preprocess and train our models:"
      ],
      "metadata": {
        "id": "lMMcFuugt5ZW"
      },
      "id": "lMMcFuugt5ZW"
    },
    {
      "cell_type": "code",
      "source": [
        "from sklearn.pipeline import Pipeline\n",
        "from sklearn.compose import ColumnTransformer\n",
        "from sklearn.preprocessing import StandardScaler\n",
        "from sklearn.preprocessing import OneHotEncoder\n",
        "from sklearn.impute import SimpleImputer"
      ],
      "outputs": [],
      "execution_count": null,
      "metadata": {
        "id": "5e58e710"
      },
      "id": "5e58e710"
    },
    {
      "cell_type": "markdown",
      "source": [
        "Creating a pipeline for preprocessing our data:"
      ],
      "metadata": {
        "id": "BeCye4MruCWb"
      },
      "id": "BeCye4MruCWb"
    },
    {
      "cell_type": "code",
      "source": [
        "# Using SimpleImputer to deal with missing values in the data\n",
        "# Mising values in the numerical data will be replaced by their columns' mean\n",
        "# Missing values in the categorical data will be replaced by their columns' median (after being encoded by OneHotEncoder)\n",
        "num_imputer = SimpleImputer(strategy='mean')\n",
        "cat_imputer = SimpleImputer(strategy='median')\n",
        "\n",
        "\n",
        "# For Numerical data:\n",
        "# StandardScaler subtracts the mean and divides all values by standard deviation. This ultimately makes the mean of the distribution = 0\n",
        "numerical_transformer = Pipeline(steps = [\n",
        "    ('scaler', StandardScaler()),\n",
        "    ('imputer', num_imputer)\n",
        "])\n",
        "\n",
        "# For categorical data:\n",
        "# OneHotEncoder assigns a numerical value to all categories of a categorical variable to allow efficient model processing\n",
        "categorical_transformer = Pipeline(steps=[\n",
        "    ('onehot', OneHotEncoder(handle_unknown='ignore')),\n",
        "    ('imputer', cat_imputer)\n",
        "])\n",
        "\n",
        "# Preprocessing for both numerical and categorical data\n",
        "preprocessor = ColumnTransformer(\n",
        "    transformers=[\n",
        "        ('num', numerical_transformer, num_cols),\n",
        "        ('cat', categorical_transformer, cat_cols),\n",
        "      ])"
      ],
      "outputs": [],
      "execution_count": null,
      "metadata": {
        "id": "27103bcf"
      },
      "id": "27103bcf"
    },
    {
      "cell_type": "markdown",
      "source": [
        "### **Lasso Model:**"
      ],
      "metadata": {
        "id": "1b0ee793"
      },
      "id": "1b0ee793"
    },
    {
      "cell_type": "code",
      "source": [
        "from sklearn.linear_model import Lasso"
      ],
      "outputs": [],
      "execution_count": null,
      "metadata": {
        "id": "bd5138df"
      },
      "id": "bd5138df"
    },
    {
      "cell_type": "code",
      "source": [
        "# Creating an instance of the lasso regression model\n",
        "lasso = Lasso()\n",
        "\n",
        "# Creating an instance of our pipeline to preprocess the data before plugging it into the lasso model\n",
        "plLasso = Pipeline(steps=[('preprocessor', preprocessor), ('model', lasso)])"
      ],
      "outputs": [],
      "execution_count": null,
      "metadata": {
        "id": "fede118f"
      },
      "id": "fede118f"
    },
    {
      "cell_type": "code",
      "source": [
        "# Fitting the training set to the pipeline and model\n",
        "plLasso.fit(X_train, y_train)"
      ],
      "outputs": [
        {
          "output_type": "stream",
          "name": "stderr",
          "text": "C:\\Users\\gouri\\ANACONDA\\lib\\site-packages\\sklearn\\linear_model\\_coordinate_descent.py:513: ConvergenceWarning: Objective did not converge. You might want to increase the number of iterations. Duality gap: 186388740593.762, tolerance: 615098412.8205527\n  model = cd_fast.sparse_enet_coordinate_descent(\n"
        },
        {
          "output_type": "execute_result",
          "execution_count": 36,
          "data": {
            "text/plain": "Pipeline(steps=[('preprocessor',\n                 ColumnTransformer(transformers=[('num',\n                                                  Pipeline(steps=[('scaler',\n                                                                   StandardScaler()),\n                                                                  ('imputer',\n                                                                   SimpleImputer())]),\n                                                  ['MSSubClass', 'LotFrontage',\n                                                   'LotArea', 'OverallQual',\n                                                   'OverallCond', 'YearBuilt',\n                                                   'YearRemodAdd', 'MasVnrArea',\n                                                   'BsmtFinSF1', 'BsmtFinSF2',\n                                                   'BsmtUnfSF', 'TotalBsmtSF',\n                                                   '1stFlrSF', '2ndFlrSF',\n                                                   'LowQualFinSF', 'GrLivArea...\n                                                   'LandContour', 'Utilities',\n                                                   'LotConfig', 'LandSlope',\n                                                   'Neighborhood', 'Condition1',\n                                                   'Condition2', 'BldgType',\n                                                   'HouseStyle', 'RoofStyle',\n                                                   'RoofMatl', 'Exterior1st',\n                                                   'Exterior2nd', 'MasVnrType',\n                                                   'ExterQual', 'ExterCond',\n                                                   'Foundation', 'BsmtQual',\n                                                   'BsmtCond', 'BsmtExposure',\n                                                   'BsmtFinType1',\n                                                   'BsmtFinType2', 'Heating',\n                                                   'HeatingQC', 'CentralAir',\n                                                   'Electrical', ...])])),\n                ('model', Lasso())])"
          },
          "metadata": {}
        }
      ],
      "execution_count": null,
      "metadata": {
        "id": "cbab5911",
        "outputId": "e5890941-06c8-4075-9c2e-334b518fe8ef"
      },
      "id": "cbab5911"
    },
    {
      "cell_type": "code",
      "source": [
        "# Accuracy of the lasso model\n",
        "plLasso.score(X_test, y_test)"
      ],
      "outputs": [
        {
          "output_type": "execute_result",
          "execution_count": 37,
          "data": {
            "text/plain": "0.8764020398592314"
          },
          "metadata": {}
        }
      ],
      "execution_count": null,
      "metadata": {
        "id": "3469ecb9",
        "outputId": "ae0dc4b5-18c6-4847-f22d-d64856d72a64"
      },
      "id": "3469ecb9"
    },
    {
      "cell_type": "markdown",
      "source": [
        "### **Ridge Model:**"
      ],
      "metadata": {
        "id": "103c9ed0"
      },
      "id": "103c9ed0"
    },
    {
      "cell_type": "code",
      "source": [
        "from sklearn.linear_model import Ridge"
      ],
      "outputs": [],
      "execution_count": null,
      "metadata": {
        "id": "c9db4f27"
      },
      "id": "c9db4f27"
    },
    {
      "cell_type": "code",
      "source": [
        "# Creating an instance of the ridge regression model\n",
        "ridge = Ridge()\n",
        "\n",
        "# Creating an instance of our pipeline to preprocess the data before plugging it into the ridge model\n",
        "plRidge = Pipeline(steps=[('preprocessor', preprocessor), ('model', ridge)])"
      ],
      "outputs": [],
      "execution_count": null,
      "metadata": {
        "id": "bf5e15fe"
      },
      "id": "bf5e15fe"
    },
    {
      "cell_type": "code",
      "source": [
        "# Fitting the training set to the pipeline and model\n",
        "plRidge.fit(X_train, y_train)"
      ],
      "outputs": [
        {
          "output_type": "execute_result",
          "execution_count": 40,
          "data": {
            "text/plain": "Pipeline(steps=[('preprocessor',\n                 ColumnTransformer(transformers=[('num',\n                                                  Pipeline(steps=[('scaler',\n                                                                   StandardScaler()),\n                                                                  ('imputer',\n                                                                   SimpleImputer())]),\n                                                  ['MSSubClass', 'LotFrontage',\n                                                   'LotArea', 'OverallQual',\n                                                   'OverallCond', 'YearBuilt',\n                                                   'YearRemodAdd', 'MasVnrArea',\n                                                   'BsmtFinSF1', 'BsmtFinSF2',\n                                                   'BsmtUnfSF', 'TotalBsmtSF',\n                                                   '1stFlrSF', '2ndFlrSF',\n                                                   'LowQualFinSF', 'GrLivArea...\n                                                   'LandContour', 'Utilities',\n                                                   'LotConfig', 'LandSlope',\n                                                   'Neighborhood', 'Condition1',\n                                                   'Condition2', 'BldgType',\n                                                   'HouseStyle', 'RoofStyle',\n                                                   'RoofMatl', 'Exterior1st',\n                                                   'Exterior2nd', 'MasVnrType',\n                                                   'ExterQual', 'ExterCond',\n                                                   'Foundation', 'BsmtQual',\n                                                   'BsmtCond', 'BsmtExposure',\n                                                   'BsmtFinType1',\n                                                   'BsmtFinType2', 'Heating',\n                                                   'HeatingQC', 'CentralAir',\n                                                   'Electrical', ...])])),\n                ('model', Ridge())])"
          },
          "metadata": {}
        }
      ],
      "execution_count": null,
      "metadata": {
        "scrolled": true,
        "id": "85409b77",
        "outputId": "a19265f0-3d23-491a-fc1d-2e32d6d4b6f0"
      },
      "id": "85409b77"
    },
    {
      "cell_type": "code",
      "source": [
        "# Accuracy of the ridge model\n",
        "plRidge.score(X_test, y_test)"
      ],
      "outputs": [
        {
          "output_type": "execute_result",
          "execution_count": 41,
          "data": {
            "text/plain": "0.8819765201980021"
          },
          "metadata": {}
        }
      ],
      "execution_count": null,
      "metadata": {
        "scrolled": true,
        "id": "a40b72fa",
        "outputId": "a4f14286-26be-49c2-a124-9e83a6d733b8"
      },
      "id": "a40b72fa"
    },
    {
      "cell_type": "markdown",
      "source": [
        "## **Q3 - Make predictions on test data “HousePriceTest.csv” and tabulate performance of both models on unseen data.**"
      ],
      "metadata": {
        "id": "1c78bb00"
      },
      "id": "1c78bb00"
    },
    {
      "cell_type": "code",
      "source": [
        "test = pd.read_csv(\"HousePriceTest.csv\", skipinitialspace = True)\n",
        "\n",
        "#Dropping id column as it is irrelevant, also so that the test dataset matches the initial dataset we trained  the models with\n",
        "test.drop('Id', axis=1, inplace=True)\n",
        "\n",
        "test.head()"
      ],
      "outputs": [
        {
          "output_type": "execute_result",
          "execution_count": 42,
          "data": {
            "text/html": "<div>\n<style scoped>\n    .dataframe tbody tr th:only-of-type {\n        vertical-align: middle;\n    }\n\n    .dataframe tbody tr th {\n        vertical-align: top;\n    }\n\n    .dataframe thead th {\n        text-align: right;\n    }\n</style>\n<table border=\"1\" class=\"dataframe\">\n  <thead>\n    <tr style=\"text-align: right;\">\n      <th></th>\n      <th>MSSubClass</th>\n      <th>MSZoning</th>\n      <th>LotFrontage</th>\n      <th>LotArea</th>\n      <th>Street</th>\n      <th>Alley</th>\n      <th>LotShape</th>\n      <th>LandContour</th>\n      <th>Utilities</th>\n      <th>LotConfig</th>\n      <th>...</th>\n      <th>ScreenPorch</th>\n      <th>PoolArea</th>\n      <th>PoolQC</th>\n      <th>Fence</th>\n      <th>MiscFeature</th>\n      <th>MiscVal</th>\n      <th>MoSold</th>\n      <th>YrSold</th>\n      <th>SaleType</th>\n      <th>SaleCondition</th>\n    </tr>\n  </thead>\n  <tbody>\n    <tr>\n      <th>0</th>\n      <td>20</td>\n      <td>RH</td>\n      <td>80.0</td>\n      <td>11622</td>\n      <td>Pave</td>\n      <td>NaN</td>\n      <td>Reg</td>\n      <td>Lvl</td>\n      <td>AllPub</td>\n      <td>Inside</td>\n      <td>...</td>\n      <td>120</td>\n      <td>0</td>\n      <td>NaN</td>\n      <td>MnPrv</td>\n      <td>NaN</td>\n      <td>0</td>\n      <td>6</td>\n      <td>2010</td>\n      <td>WD</td>\n      <td>Normal</td>\n    </tr>\n    <tr>\n      <th>1</th>\n      <td>20</td>\n      <td>RL</td>\n      <td>81.0</td>\n      <td>14267</td>\n      <td>Pave</td>\n      <td>NaN</td>\n      <td>IR1</td>\n      <td>Lvl</td>\n      <td>AllPub</td>\n      <td>Corner</td>\n      <td>...</td>\n      <td>0</td>\n      <td>0</td>\n      <td>NaN</td>\n      <td>NaN</td>\n      <td>Gar2</td>\n      <td>12500</td>\n      <td>6</td>\n      <td>2010</td>\n      <td>WD</td>\n      <td>Normal</td>\n    </tr>\n    <tr>\n      <th>2</th>\n      <td>60</td>\n      <td>RL</td>\n      <td>74.0</td>\n      <td>13830</td>\n      <td>Pave</td>\n      <td>NaN</td>\n      <td>IR1</td>\n      <td>Lvl</td>\n      <td>AllPub</td>\n      <td>Inside</td>\n      <td>...</td>\n      <td>0</td>\n      <td>0</td>\n      <td>NaN</td>\n      <td>MnPrv</td>\n      <td>NaN</td>\n      <td>0</td>\n      <td>3</td>\n      <td>2010</td>\n      <td>WD</td>\n      <td>Normal</td>\n    </tr>\n    <tr>\n      <th>3</th>\n      <td>60</td>\n      <td>RL</td>\n      <td>78.0</td>\n      <td>9978</td>\n      <td>Pave</td>\n      <td>NaN</td>\n      <td>IR1</td>\n      <td>Lvl</td>\n      <td>AllPub</td>\n      <td>Inside</td>\n      <td>...</td>\n      <td>0</td>\n      <td>0</td>\n      <td>NaN</td>\n      <td>NaN</td>\n      <td>NaN</td>\n      <td>0</td>\n      <td>6</td>\n      <td>2010</td>\n      <td>WD</td>\n      <td>Normal</td>\n    </tr>\n    <tr>\n      <th>4</th>\n      <td>120</td>\n      <td>RL</td>\n      <td>43.0</td>\n      <td>5005</td>\n      <td>Pave</td>\n      <td>NaN</td>\n      <td>IR1</td>\n      <td>HLS</td>\n      <td>AllPub</td>\n      <td>Inside</td>\n      <td>...</td>\n      <td>144</td>\n      <td>0</td>\n      <td>NaN</td>\n      <td>NaN</td>\n      <td>NaN</td>\n      <td>0</td>\n      <td>1</td>\n      <td>2010</td>\n      <td>WD</td>\n      <td>Normal</td>\n    </tr>\n  </tbody>\n</table>\n<p>5 rows × 79 columns</p>\n</div>",
            "text/plain": "   MSSubClass MSZoning  LotFrontage  LotArea Street Alley LotShape  \\\n0          20       RH         80.0    11622   Pave   NaN      Reg   \n1          20       RL         81.0    14267   Pave   NaN      IR1   \n2          60       RL         74.0    13830   Pave   NaN      IR1   \n3          60       RL         78.0     9978   Pave   NaN      IR1   \n4         120       RL         43.0     5005   Pave   NaN      IR1   \n\n  LandContour Utilities LotConfig  ... ScreenPorch PoolArea PoolQC  Fence  \\\n0         Lvl    AllPub    Inside  ...         120        0    NaN  MnPrv   \n1         Lvl    AllPub    Corner  ...           0        0    NaN    NaN   \n2         Lvl    AllPub    Inside  ...           0        0    NaN  MnPrv   \n3         Lvl    AllPub    Inside  ...           0        0    NaN    NaN   \n4         HLS    AllPub    Inside  ...         144        0    NaN    NaN   \n\n  MiscFeature MiscVal  MoSold  YrSold  SaleType  SaleCondition  \n0         NaN       0       6    2010        WD         Normal  \n1        Gar2   12500       6    2010        WD         Normal  \n2         NaN       0       3    2010        WD         Normal  \n3         NaN       0       6    2010        WD         Normal  \n4         NaN       0       1    2010        WD         Normal  \n\n[5 rows x 79 columns]"
          },
          "metadata": {}
        }
      ],
      "execution_count": null,
      "metadata": {
        "id": "fa2dbe05",
        "outputId": "aa1970d5-c2a0-437f-f424-460639158eaf"
      },
      "id": "fa2dbe05"
    },
    {
      "cell_type": "code",
      "source": [
        "# Testing our data using the lasso model's pipeline\n",
        "\n",
        "LassoPredict = plLasso.predict(test)\n",
        "LassoPredict"
      ],
      "outputs": [
        {
          "output_type": "execute_result",
          "execution_count": 43,
          "data": {
            "text/plain": "array([119355.04675688, 189449.02950652, 185599.24325316, ...,\n       173973.68900757, 117555.57200521, 226083.76046921])"
          },
          "metadata": {}
        }
      ],
      "execution_count": null,
      "metadata": {
        "id": "1a568173",
        "outputId": "49b0d6d9-1ec3-4a43-93d0-05647028e509"
      },
      "id": "1a568173"
    },
    {
      "cell_type": "code",
      "source": [
        "# Testing our data using the ridge model's pipeline\n",
        "\n",
        "RidgePredict = plRidge.predict(test)\n",
        "RidgePredict"
      ],
      "outputs": [
        {
          "output_type": "execute_result",
          "execution_count": 44,
          "data": {
            "text/plain": "array([108027.23041594, 153429.45339792, 176303.02039535, ...,\n       159627.43755554, 107665.83113457, 227548.4522981 ])"
          },
          "metadata": {}
        }
      ],
      "execution_count": null,
      "metadata": {
        "id": "d18a19a7",
        "outputId": "e3cfc047-fddc-46d7-c162-9fe0b7b696a8"
      },
      "id": "d18a19a7"
    }
  ],
  "metadata": {
    "kernelspec": {
      "display_name": "Python 3",
      "language": "python",
      "name": "python3"
    },
    "language_info": {
      "codemirror_mode": {
        "name": "ipython",
        "version": 3
      },
      "file_extension": ".py",
      "mimetype": "text/x-python",
      "name": "python",
      "nbconvert_exporter": "python",
      "pygments_lexer": "ipython3",
      "version": "3.8.8"
    },
    "nteract": {
      "version": "nteract-front-end@1.0.0"
    },
    "colab": {
      "provenance": []
    }
  },
  "nbformat": 4,
  "nbformat_minor": 5
}