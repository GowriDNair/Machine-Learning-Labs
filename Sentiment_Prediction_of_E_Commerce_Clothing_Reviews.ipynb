{
  "cells": [
    {
      "cell_type": "markdown",
      "source": [
        "# 👕 **Sentiment Prediction of E-Commerce Clothing Reviews** 👗"
      ],
      "metadata": {
        "id": "75Q4Uk1awQfp"
      },
      "id": "75Q4Uk1awQfp"
    },
    {
      "cell_type": "markdown",
      "source": [
        "Importing standard libraries"
      ],
      "metadata": {
        "id": "eeYCcuB2wvWi"
      },
      "id": "eeYCcuB2wvWi"
    },
    {
      "cell_type": "code",
      "source": [
        "import pandas as pd\n",
        "import numpy as np\n",
        "from matplotlib import pyplot as plt\n",
        "import seaborn as sns"
      ],
      "outputs": [],
      "execution_count": null,
      "metadata": {
        "id": "10f2aa2b"
      },
      "id": "10f2aa2b"
    },
    {
      "cell_type": "markdown",
      "source": [
        "## **Q1 - Download the \"Womens Clothing E-Commerce Reviews.zip\" file and answer the following:**"
      ],
      "metadata": {
        "id": "55536024"
      },
      "id": "55536024"
    },
    {
      "cell_type": "markdown",
      "source": [
        "Importing Data:"
      ],
      "metadata": {
        "id": "809Y6T0gw1FY"
      },
      "id": "809Y6T0gw1FY"
    },
    {
      "cell_type": "code",
      "source": [
        "df = pd.read_csv(\"C:\\\\Users\\\\gouri\\\\OneDrive\\\\Desktop\\\\Womens Clothing E-Commerce Reviews\\\\Womens Clothing E-Commerce Reviews.csv\", skipinitialspace = True)\n",
        "df.head()"
      ],
      "outputs": [
        {
          "output_type": "execute_result",
          "execution_count": 2,
          "data": {
            "text/html": "<div>\n<style scoped>\n    .dataframe tbody tr th:only-of-type {\n        vertical-align: middle;\n    }\n\n    .dataframe tbody tr th {\n        vertical-align: top;\n    }\n\n    .dataframe thead th {\n        text-align: right;\n    }\n</style>\n<table border=\"1\" class=\"dataframe\">\n  <thead>\n    <tr style=\"text-align: right;\">\n      <th></th>\n      <th>Unnamed: 0</th>\n      <th>Clothing ID</th>\n      <th>Age</th>\n      <th>Title</th>\n      <th>Review Text</th>\n      <th>Rating</th>\n      <th>Positive Feedback Count</th>\n      <th>Division Name</th>\n      <th>Department Name</th>\n      <th>Category</th>\n      <th>Recommended IND</th>\n    </tr>\n  </thead>\n  <tbody>\n    <tr>\n      <th>0</th>\n      <td>0</td>\n      <td>767</td>\n      <td>33</td>\n      <td>NaN</td>\n      <td>Absolutely wonderful - silky and sexy and comf...</td>\n      <td>4</td>\n      <td>0</td>\n      <td>Initmates</td>\n      <td>Intimate</td>\n      <td>Intimates</td>\n      <td>1</td>\n    </tr>\n    <tr>\n      <th>1</th>\n      <td>1</td>\n      <td>1080</td>\n      <td>34</td>\n      <td>NaN</td>\n      <td>Love this dress!  it's sooo pretty.  i happene...</td>\n      <td>5</td>\n      <td>4</td>\n      <td>General</td>\n      <td>Dresses</td>\n      <td>Dresses</td>\n      <td>1</td>\n    </tr>\n    <tr>\n      <th>2</th>\n      <td>2</td>\n      <td>1077</td>\n      <td>60</td>\n      <td>Some major design flaws</td>\n      <td>I had such high hopes for this dress and reall...</td>\n      <td>3</td>\n      <td>0</td>\n      <td>General</td>\n      <td>Dresses</td>\n      <td>Dresses</td>\n      <td>0</td>\n    </tr>\n    <tr>\n      <th>3</th>\n      <td>3</td>\n      <td>1049</td>\n      <td>50</td>\n      <td>My favorite buy!</td>\n      <td>I love, love, love this jumpsuit. it's fun, fl...</td>\n      <td>5</td>\n      <td>0</td>\n      <td>General Petite</td>\n      <td>Bottoms</td>\n      <td>Pants</td>\n      <td>1</td>\n    </tr>\n    <tr>\n      <th>4</th>\n      <td>4</td>\n      <td>847</td>\n      <td>47</td>\n      <td>Flattering shirt</td>\n      <td>This shirt is very flattering to all due to th...</td>\n      <td>5</td>\n      <td>6</td>\n      <td>General</td>\n      <td>Tops</td>\n      <td>Blouses</td>\n      <td>1</td>\n    </tr>\n  </tbody>\n</table>\n</div>",
            "text/plain": "   Unnamed: 0  Clothing ID  Age                    Title  \\\n0           0          767   33                      NaN   \n1           1         1080   34                      NaN   \n2           2         1077   60  Some major design flaws   \n3           3         1049   50         My favorite buy!   \n4           4          847   47         Flattering shirt   \n\n                                         Review Text  Rating  \\\n0  Absolutely wonderful - silky and sexy and comf...       4   \n1  Love this dress!  it's sooo pretty.  i happene...       5   \n2  I had such high hopes for this dress and reall...       3   \n3  I love, love, love this jumpsuit. it's fun, fl...       5   \n4  This shirt is very flattering to all due to th...       5   \n\n   Positive Feedback Count   Division Name Department Name   Category  \\\n0                        0       Initmates        Intimate  Intimates   \n1                        4         General         Dresses    Dresses   \n2                        0         General         Dresses    Dresses   \n3                        0  General Petite         Bottoms      Pants   \n4                        6         General            Tops    Blouses   \n\n   Recommended IND  \n0                1  \n1                1  \n2                0  \n3                1  \n4                1  "
          },
          "metadata": {}
        }
      ],
      "execution_count": null,
      "metadata": {
        "scrolled": true,
        "id": "4cec7079",
        "outputId": "7e9922ad-d95a-4fb2-b710-094e22558181"
      },
      "id": "4cec7079"
    },
    {
      "cell_type": "code",
      "source": [
        "# Checking for null values:\n",
        "df.isnull().sum()"
      ],
      "outputs": [
        {
          "output_type": "execute_result",
          "execution_count": 4,
          "data": {
            "text/plain": "Unnamed: 0                    0\nClothing ID                   0\nAge                           0\nTitle                      3810\nReview Text                 845\nRating                        0\nPositive Feedback Count       0\nDivision Name                14\nDepartment Name              14\nCategory                     14\nRecommended IND               0\ndtype: int64"
          },
          "metadata": {}
        }
      ],
      "execution_count": null,
      "metadata": {
        "scrolled": true,
        "id": "abc84257",
        "outputId": "850457bc-8a51-42c0-8a81-af1a35839e5a"
      },
      "id": "abc84257"
    },
    {
      "cell_type": "markdown",
      "source": [
        "# Q1b - Remove the data that have less than 5 reviews"
      ],
      "metadata": {
        "id": "4dd6c5eb"
      },
      "id": "4dd6c5eb"
    },
    {
      "cell_type": "markdown",
      "source": [
        "Calculating the number of reviews per clothing item:"
      ],
      "metadata": {
        "id": "Xp9n1u3nxPHI"
      },
      "id": "Xp9n1u3nxPHI"
    },
    {
      "cell_type": "code",
      "source": [
        "df.shape"
      ],
      "outputs": [
        {
          "output_type": "execute_result",
          "execution_count": 8,
          "data": {
            "text/plain": "(19662, 12)"
          },
          "metadata": {}
        }
      ],
      "execution_count": null,
      "metadata": {
        "id": "a7a9b2c3",
        "outputId": "232dbdce-ce86-428f-9360-9b4c4cc84f54"
      },
      "id": "a7a9b2c3"
    },
    {
      "cell_type": "code",
      "source": [
        "total = df['Clothing ID'].value_counts()"
      ],
      "outputs": [],
      "execution_count": null,
      "metadata": {
        "id": "67c7ecfc"
      },
      "id": "67c7ecfc"
    },
    {
      "cell_type": "code",
      "source": [
        "df['total'] = 0\n",
        "\n",
        "for i in df['Clothing ID'].unique():\n",
        "    df.loc[df['Clothing ID'] == i, 'total'] = df['Clothing ID'].value_counts()[i]"
      ],
      "outputs": [],
      "execution_count": null,
      "metadata": {
        "id": "46b699d1"
      },
      "id": "46b699d1"
    },
    {
      "cell_type": "markdown",
      "source": [
        "Keeping only the clothes with more than 5 reviews"
      ],
      "metadata": {
        "id": "EWlA8RURxdli"
      },
      "id": "EWlA8RURxdli"
    },
    {
      "cell_type": "code",
      "source": [
        "df = df[df['total'] > 5]"
      ],
      "outputs": [],
      "execution_count": null,
      "metadata": {
        "id": "7f77c287"
      },
      "id": "7f77c287"
    },
    {
      "cell_type": "code",
      "source": [
        "df.shape"
      ],
      "outputs": [
        {
          "output_type": "execute_result",
          "execution_count": 10,
          "data": {
            "text/plain": "(18206, 12)"
          },
          "metadata": {}
        }
      ],
      "execution_count": null,
      "metadata": {
        "scrolled": true,
        "id": "ad9b144b",
        "outputId": "3a118e8b-235b-4f64-f986-3347b79600ee"
      },
      "id": "ad9b144b"
    },
    {
      "cell_type": "code",
      "source": [
        "df"
      ],
      "outputs": [
        {
          "output_type": "execute_result",
          "execution_count": 11,
          "data": {
            "text/html": "<div>\n<style scoped>\n    .dataframe tbody tr th:only-of-type {\n        vertical-align: middle;\n    }\n\n    .dataframe tbody tr th {\n        vertical-align: top;\n    }\n\n    .dataframe thead th {\n        text-align: right;\n    }\n</style>\n<table border=\"1\" class=\"dataframe\">\n  <thead>\n    <tr style=\"text-align: right;\">\n      <th></th>\n      <th>Unnamed: 0</th>\n      <th>Clothing ID</th>\n      <th>Age</th>\n      <th>Title</th>\n      <th>Review Text</th>\n      <th>Rating</th>\n      <th>Positive Feedback Count</th>\n      <th>Division Name</th>\n      <th>Department Name</th>\n      <th>Category</th>\n      <th>Recommended IND</th>\n      <th>total</th>\n    </tr>\n  </thead>\n  <tbody>\n    <tr>\n      <th>2</th>\n      <td>2</td>\n      <td>1077</td>\n      <td>60</td>\n      <td>Some major design flaws</td>\n      <td>I had such high hopes for this dress and reall...</td>\n      <td>3</td>\n      <td>0</td>\n      <td>General</td>\n      <td>Dresses</td>\n      <td>Dresses</td>\n      <td>0</td>\n      <td>251</td>\n    </tr>\n    <tr>\n      <th>3</th>\n      <td>3</td>\n      <td>1049</td>\n      <td>50</td>\n      <td>My favorite buy!</td>\n      <td>I love, love, love this jumpsuit. it's fun, fl...</td>\n      <td>5</td>\n      <td>0</td>\n      <td>General Petite</td>\n      <td>Bottoms</td>\n      <td>Pants</td>\n      <td>1</td>\n      <td>25</td>\n    </tr>\n    <tr>\n      <th>5</th>\n      <td>5</td>\n      <td>1080</td>\n      <td>49</td>\n      <td>Not for the very petite</td>\n      <td>I love tracy reese dresses, but this one is no...</td>\n      <td>2</td>\n      <td>4</td>\n      <td>General</td>\n      <td>Dresses</td>\n      <td>Dresses</td>\n      <td>0</td>\n      <td>241</td>\n    </tr>\n    <tr>\n      <th>6</th>\n      <td>6</td>\n      <td>858</td>\n      <td>39</td>\n      <td>Cagrcoal shimmer fun</td>\n      <td>I aded this in my basket at hte last mintue to...</td>\n      <td>5</td>\n      <td>1</td>\n      <td>General Petite</td>\n      <td>Tops</td>\n      <td>Knits</td>\n      <td>1</td>\n      <td>18</td>\n    </tr>\n    <tr>\n      <th>7</th>\n      <td>7</td>\n      <td>858</td>\n      <td>39</td>\n      <td>Shimmer, surprisingly goes with lots</td>\n      <td>I ordered this in carbon for store pick up, an...</td>\n      <td>4</td>\n      <td>4</td>\n      <td>General Petite</td>\n      <td>Tops</td>\n      <td>Knits</td>\n      <td>1</td>\n      <td>18</td>\n    </tr>\n    <tr>\n      <th>...</th>\n      <td>...</td>\n      <td>...</td>\n      <td>...</td>\n      <td>...</td>\n      <td>...</td>\n      <td>...</td>\n      <td>...</td>\n      <td>...</td>\n      <td>...</td>\n      <td>...</td>\n      <td>...</td>\n      <td>...</td>\n    </tr>\n    <tr>\n      <th>23481</th>\n      <td>23481</td>\n      <td>1104</td>\n      <td>34</td>\n      <td>Great dress for many occasions</td>\n      <td>I was very happy to snag this dress at such a ...</td>\n      <td>5</td>\n      <td>0</td>\n      <td>General Petite</td>\n      <td>Dresses</td>\n      <td>Dresses</td>\n      <td>1</td>\n      <td>147</td>\n    </tr>\n    <tr>\n      <th>23482</th>\n      <td>23482</td>\n      <td>862</td>\n      <td>48</td>\n      <td>Wish it was made of cotton</td>\n      <td>It reminds me of maternity clothes. soft, stre...</td>\n      <td>3</td>\n      <td>0</td>\n      <td>General Petite</td>\n      <td>Tops</td>\n      <td>Knits</td>\n      <td>1</td>\n      <td>658</td>\n    </tr>\n    <tr>\n      <th>23483</th>\n      <td>23483</td>\n      <td>1104</td>\n      <td>31</td>\n      <td>Cute, but see through</td>\n      <td>This fit well, but the top was very see throug...</td>\n      <td>3</td>\n      <td>1</td>\n      <td>General Petite</td>\n      <td>Dresses</td>\n      <td>Dresses</td>\n      <td>0</td>\n      <td>147</td>\n    </tr>\n    <tr>\n      <th>23484</th>\n      <td>23484</td>\n      <td>1084</td>\n      <td>28</td>\n      <td>Very cute dress, perfect for summer parties an...</td>\n      <td>I bought this dress for a wedding i have this ...</td>\n      <td>3</td>\n      <td>2</td>\n      <td>General</td>\n      <td>Dresses</td>\n      <td>Dresses</td>\n      <td>1</td>\n      <td>64</td>\n    </tr>\n    <tr>\n      <th>23485</th>\n      <td>23485</td>\n      <td>1104</td>\n      <td>52</td>\n      <td>Please make more like this one!</td>\n      <td>This dress in a lovely platinum is feminine an...</td>\n      <td>5</td>\n      <td>22</td>\n      <td>General Petite</td>\n      <td>Dresses</td>\n      <td>Dresses</td>\n      <td>1</td>\n      <td>147</td>\n    </tr>\n  </tbody>\n</table>\n<p>18206 rows × 12 columns</p>\n</div>",
            "text/plain": "       Unnamed: 0  Clothing ID  Age  \\\n2               2         1077   60   \n3               3         1049   50   \n5               5         1080   49   \n6               6          858   39   \n7               7          858   39   \n...           ...          ...  ...   \n23481       23481         1104   34   \n23482       23482          862   48   \n23483       23483         1104   31   \n23484       23484         1084   28   \n23485       23485         1104   52   \n\n                                                   Title  \\\n2                                Some major design flaws   \n3                                       My favorite buy!   \n5                                Not for the very petite   \n6                                   Cagrcoal shimmer fun   \n7                   Shimmer, surprisingly goes with lots   \n...                                                  ...   \n23481                     Great dress for many occasions   \n23482                         Wish it was made of cotton   \n23483                              Cute, but see through   \n23484  Very cute dress, perfect for summer parties an...   \n23485                    Please make more like this one!   \n\n                                             Review Text  Rating  \\\n2      I had such high hopes for this dress and reall...       3   \n3      I love, love, love this jumpsuit. it's fun, fl...       5   \n5      I love tracy reese dresses, but this one is no...       2   \n6      I aded this in my basket at hte last mintue to...       5   \n7      I ordered this in carbon for store pick up, an...       4   \n...                                                  ...     ...   \n23481  I was very happy to snag this dress at such a ...       5   \n23482  It reminds me of maternity clothes. soft, stre...       3   \n23483  This fit well, but the top was very see throug...       3   \n23484  I bought this dress for a wedding i have this ...       3   \n23485  This dress in a lovely platinum is feminine an...       5   \n\n       Positive Feedback Count   Division Name Department Name Category  \\\n2                            0         General         Dresses  Dresses   \n3                            0  General Petite         Bottoms    Pants   \n5                            4         General         Dresses  Dresses   \n6                            1  General Petite            Tops    Knits   \n7                            4  General Petite            Tops    Knits   \n...                        ...             ...             ...      ...   \n23481                        0  General Petite         Dresses  Dresses   \n23482                        0  General Petite            Tops    Knits   \n23483                        1  General Petite         Dresses  Dresses   \n23484                        2         General         Dresses  Dresses   \n23485                       22  General Petite         Dresses  Dresses   \n\n       Recommended IND  total  \n2                    0    251  \n3                    1     25  \n5                    0    241  \n6                    1     18  \n7                    1     18  \n...                ...    ...  \n23481                1    147  \n23482                1    658  \n23483                0    147  \n23484                1     64  \n23485                1    147  \n\n[18206 rows x 12 columns]"
          },
          "metadata": {}
        }
      ],
      "execution_count": null,
      "metadata": {
        "id": "342a08a9",
        "outputId": "57a7b8b0-1152-4888-d445-c917408ba430"
      },
      "id": "342a08a9"
    },
    {
      "cell_type": "markdown",
      "source": [
        "## **Q1c - Clean the data and remove the special characters and replace the contractions with its expansion. Convert the uppercase character to lower case. Also, remove the punctuations.**"
      ],
      "metadata": {
        "id": "85e43e8e"
      },
      "id": "85e43e8e"
    },
    {
      "cell_type": "markdown",
      "source": [
        "Defining the contractions for preprocessing:"
      ],
      "metadata": {
        "id": "JVezaKhvxqES"
      },
      "id": "JVezaKhvxqES"
    },
    {
      "cell_type": "code",
      "source": [
        "contractions = {\n",
        "\"a'ight\":\"alright\",\n",
        "\"ain't\":\"are not\",\n",
        "\"amn't\":\"am not\",\n",
        "\"aren't\":\"are not\",\n",
        "\"can't\":\"cannot\",\n",
        "\"'cause\": \"because\",\n",
        "\"could've\":\"could have\",\n",
        "\"couldn't\":\"could not\",\n",
        "\"couldn't've\":\"could not have\",\n",
        "\"daren't\":\"dare not\",\n",
        "\"daresn't\":\"dare not\",\n",
        "\"dasn't\":\"dare not\",\n",
        "\"didn't\":\"did not\",\n",
        "\"doesn't\":\"does not\",\n",
        "\"don't\":\"do not\",\n",
        "\"everybody's\":\"everybody is\",\n",
        "\"everyone's\":\"everyone is\",\n",
        "\"giv'n\":\"given\",\n",
        "\"gonna\":\"going to\",\n",
        "\"gon't\":\"go not\", \n",
        "\"gotta\":\"got to\",\n",
        "\"hadn't\":\"had not\",\n",
        "\"had've\":\"had have\",\n",
        "\"hasn't\":\"has not\",\n",
        "\"haven't\":\"have not\",\n",
        "\"he'd\":\"he had\", \n",
        "\"he'll\":\"he will\",\n",
        "\"he's\":\"he is\",\n",
        "\"here's\":\"here is\",\n",
        "\"how'd\":\"how did\",\n",
        "\"how'll\":\"how will\",\n",
        "\"how're\":\"how are\",\n",
        "\"how's\":\"how is\",\n",
        "\"I'd\":\"I had\",\n",
        "\"I'd've\":\"I would have\",\n",
        "\"I'd'nt\":\"I would not\",\n",
        "\"I'd'nt've\":\"I would not have\",\n",
        "\"I'll\":\"I will\",\n",
        "\"I'm\":\"I am\",\n",
        "\"I've\":\"I have\",\n",
        "\"isn't\":\"is not\",\n",
        "\"it'd\":\"it would\",\n",
        "\"it'll\":\"it will\",\n",
        "\"it's\":\"it is\",\n",
        "\"let's\":\"let us\",\n",
        "\"ma'am\":\"madam\",\n",
        "\"mayn't\":\"may not\",\n",
        "\"may've\":\"may have\",\n",
        "\"mightn't\":\"might not\",\n",
        "\"might've\":\"might have\",\n",
        "\"mustn't\":\"must not\",\n",
        "\"mustn't've\":\"must not have\",\n",
        "\"must've\":\"must have\",\n",
        "\"needn't\":\"need not\",\n",
        "\"needn't've\":\"need not have\",\n",
        "\"o'clock\":\"of the clock\",\n",
        "\"oughtn't\":\"ought not\",\n",
        "\"oughtn't've\":\"ought not have\",\n",
        "\"shan't\":\"shall not\",\n",
        "\"she'd\":\"she would\",\n",
        "\"she'll\":\"she will\",\n",
        "\"she's\":\"she is\",\n",
        "\"should've\":\"should have\",\n",
        "\"shouldn't\":\"should not\",\n",
        "\"shouldn't've\":\"should not have\",\n",
        "\"somebody's\":\"somebody is\",\n",
        "\"someone's\":\"someone is\",\n",
        "\"something's\":\"something is\",\n",
        "\"so're\":\"so are\",\n",
        "\"so’s\":\"so is\",\n",
        "\"so’ve\":\"so have\",\n",
        "\"that'll\":\"that will\",\n",
        "\"that're\":\"that are\",\n",
        "\"that's\":\"that is\",\n",
        "\"that'd\":\"that would\",\n",
        "\"there'd\":\"there would\",\n",
        "\"there'll\":\"there will\",\n",
        "\"there're\":\"there are\",\n",
        "\"there's\":\"there is\",\n",
        "\"these're\":\"these are\",\n",
        "\"these've\":\"these have\",\n",
        "\"they'd\":\"they would\",\n",
        "\"they'll\":\"they will\",\n",
        "\"they're\":\"they are\",\n",
        "\"they've\":\"they have\",\n",
        "\"this's\":\"this is\",\n",
        "\"those're\":\"those are\",\n",
        "\"those've\":\"those have\",\n",
        "\"to've\":\"to have\",\n",
        "\"wasn't\":\"was not\",\n",
        "\"we'd\":\"we would\",\n",
        "\"we'd've\":\"we would have\",\n",
        "\"we'll\":\"we will\",\n",
        "\"we're\":\"we are\",\n",
        "\"we've\":\"we have\",\n",
        "\"weren't\":\"were not\",\n",
        "\"what'd\":\"what did\",\n",
        "\"what'll\":\"what will\",\n",
        "\"what're\":\"what are\",\n",
        "\"what's\":\"what is\",\n",
        "\"what've\":\"what have\",\n",
        "\"when's\":\"when is\",\n",
        "\"where'd\":\"where did\",\n",
        "\"where'll\":\"where will\",\n",
        "\"where're\":\"where are\",\n",
        "\"where's\":\"where is\",\n",
        "\"where've\":\"where have\",\n",
        "\"which'd\":\"which would\",\n",
        "\"which'll\":\"which will\",\n",
        "\"which're\":\"which are\",\n",
        "\"which's\":\"which is\",\n",
        "\"which've\":\"which have\",\n",
        "\"who'd\":\"who would\",\n",
        "\"who'd've\":\"who would have\",\n",
        "\"who'll\":\"who will\",\n",
        "\"who're\":\"who are\",\n",
        "\"who's\":\"who is\",\n",
        "\"who've\":\"who have\",\n",
        "\"why'd\":\"why did\",\n",
        "\"why're\":\"why are\",\n",
        "\"why's\":\"why is\",\n",
        "\"won't\":\"will not\",\n",
        "\"would've\":\"would have\",\n",
        "\"wouldn't\":\"would not\",\n",
        "\"wouldn't've\":\"would not have\",\n",
        "\"y'at\":\"you at\",\n",
        "\"yes’m\":\"yes madam\",\n",
        "\"you'd\":\"you would\",\n",
        "\"you'll\":\"you will\",\n",
        "\"you're\":\"you are\",\n",
        "\"you've\":\"you have\"}"
      ],
      "outputs": [],
      "execution_count": null,
      "metadata": {
        "id": "39f61535"
      },
      "id": "39f61535"
    },
    {
      "cell_type": "code",
      "source": [
        "# Function for replacing contractions with their full forms using the above definitions\n",
        "\n",
        "def cont_to_exp(x):\n",
        "    if type(x) is str:\n",
        "        x = x.replace('\\\\','')\n",
        "        for key in contractions:\n",
        "            value = contractions[key]\n",
        "            x = x.replace(key, value)\n",
        "        return x\n",
        "    else:\n",
        "        return x"
      ],
      "outputs": [],
      "execution_count": null,
      "metadata": {
        "id": "29133371"
      },
      "id": "29133371"
    },
    {
      "cell_type": "code",
      "source": [
        "df[\"Review Text\"] = df[\"Review Text\"].apply(lambda x:cont_to_exp(x))"
      ],
      "outputs": [],
      "execution_count": null,
      "metadata": {
        "id": "bc4079be"
      },
      "id": "bc4079be"
    },
    {
      "cell_type": "code",
      "source": [
        "# Function for converting all reviews to lowercase: \n",
        "\n",
        "def upper_to_lower(x):\n",
        "    if type(x) is str:\n",
        "        return x.lower()\n",
        "    else:\n",
        "        return x"
      ],
      "outputs": [],
      "execution_count": null,
      "metadata": {
        "id": "1ecf7960"
      },
      "id": "1ecf7960"
    },
    {
      "cell_type": "code",
      "source": [
        "df['Review Text'] = df['Review Text'].apply(lambda x:upper_to_lower(x))"
      ],
      "outputs": [],
      "execution_count": null,
      "metadata": {
        "id": "1e2123e1"
      },
      "id": "1e2123e1"
    },
    {
      "cell_type": "code",
      "source": [
        "import string\n",
        "\n",
        "# Function for removing punctuations from the review text:\n",
        "def remove_punctuations(text):\n",
        "    if type(text) is str:\n",
        "        for p in string.punctuation:\n",
        "            text = text.replace(p, '')\n",
        "        return text\n",
        "    else:\n",
        "        return text "
      ],
      "outputs": [],
      "execution_count": null,
      "metadata": {
        "id": "3b97beb4"
      },
      "id": "3b97beb4"
    },
    {
      "cell_type": "code",
      "source": [
        "df['Review Text'] = df['Review Text'].apply(lambda x:remove_punctuations(x))"
      ],
      "outputs": [],
      "execution_count": null,
      "metadata": {
        "id": "cdac511d"
      },
      "id": "cdac511d"
    },
    {
      "cell_type": "code",
      "source": [
        "# Function for removing special characters from the text:\n",
        "\n",
        "def remove_special_chars(text):\n",
        "    special_chars = '''!()-[]{};:'\"\\,<>./?@#$%^&*_~'''\n",
        "    if type(text) is str:\n",
        "        for p in special_chars:\n",
        "            text = text.replace(p, '')\n",
        "        return text\n",
        "    else:\n",
        "        return text"
      ],
      "outputs": [],
      "execution_count": null,
      "metadata": {
        "id": "bc72e5c6"
      },
      "id": "bc72e5c6"
    },
    {
      "cell_type": "code",
      "source": [
        "df['Review Text'] = df['Review Text'].apply(lambda x:remove_special_chars(x))"
      ],
      "outputs": [],
      "execution_count": null,
      "metadata": {
        "id": "7c0302eb"
      },
      "id": "7c0302eb"
    },
    {
      "cell_type": "markdown",
      "source": [
        "Assigning sentiment polarity to our preprocessed text:"
      ],
      "metadata": {
        "id": "0H8JXgPByPsq"
      },
      "id": "0H8JXgPByPsq"
    },
    {
      "cell_type": "markdown",
      "source": [
        "Polarity is the output that lies between [-1,1], where -1 refers to negative sentiment and +1 refers to positive sentiment."
      ],
      "metadata": {
        "id": "YjRLq516yS5h"
      },
      "id": "YjRLq516yS5h"
    },
    {
      "cell_type": "code",
      "source": [
        "from textblob import TextBlob\n",
        "df['polarity_title'] = df['Title'].apply(lambda x: TextBlob(x).sentiment.polarity)\n",
        "df['polarity_review'] = df['Review Text'].apply(lambda x: TextBlob(x).sentiment.polarity)"
      ],
      "outputs": [],
      "execution_count": null,
      "metadata": {
        "id": "1c3f8c24"
      },
      "id": "1c3f8c24"
    },
    {
      "cell_type": "code",
      "source": [
        "# Dropping columns that are not needed any further\n",
        "df = df.drop(columns=['Unnamed: 0', 'Clothing ID', 'Title', 'Department Name', 'Division Name', 'Category'])"
      ],
      "outputs": [],
      "execution_count": null,
      "metadata": {
        "id": "d2ad1640"
      },
      "id": "d2ad1640"
    },
    {
      "cell_type": "markdown",
      "source": [
        "# Q2 - Separate the columns into dependent and independent variables (or features and labels). Then split those variables into train and test sets (80:20)."
      ],
      "metadata": {
        "id": "18a00e1e"
      },
      "id": "18a00e1e"
    },
    {
      "cell_type": "code",
      "source": [
        "# Defining independent and dependent attributes:\n",
        "\n",
        "x = df.drop(columns=['Recommended IND'])\n",
        "y = df['Recommended IND']"
      ],
      "outputs": [],
      "execution_count": null,
      "metadata": {
        "id": "d680c454"
      },
      "id": "d680c454"
    },
    {
      "cell_type": "code",
      "source": [
        "# Splitting x and y into test and train sets:\n",
        "\n",
        "from sklearn.model_selection import train_test_split\n",
        "x_train, x_test, y_train, y_test = train_test_split(x, y, train_size=0.8, random_state=42)"
      ],
      "outputs": [],
      "execution_count": null,
      "metadata": {
        "id": "761af1fd"
      },
      "id": "761af1fd"
    },
    {
      "cell_type": "code",
      "source": [
        "#For every column chosen in x, if the datatype is of int or float, consider it to be a numerical column\n",
        "#The rest are considered to be categorical (object can mean mixed types in python)\n",
        "\n",
        "numerical = [col for col in x.columns if x[col].dtype in ['int64', 'float64']] \n",
        "categorical = [col for col in x.columns if x[col].dtype == 'object']"
      ],
      "outputs": [],
      "execution_count": null,
      "metadata": {
        "id": "946c85dd"
      },
      "id": "946c85dd"
    },
    {
      "cell_type": "markdown",
      "source": [
        "Importing required libraries:"
      ],
      "metadata": {
        "id": "65MCs_isyy8F"
      },
      "id": "65MCs_isyy8F"
    },
    {
      "cell_type": "code",
      "source": [
        "from sklearn.pipeline import Pipeline\n",
        "from sklearn.compose import ColumnTransformer\n",
        "from sklearn.preprocessing import RobustScaler\n",
        "from sklearn.preprocessing import OneHotEncoder\n",
        "from sklearn.feature_extraction.text import CountVectorizer"
      ],
      "metadata": {
        "id": "BRK5XYWuy0Op"
      },
      "id": "BRK5XYWuy0Op",
      "execution_count": null,
      "outputs": []
    },
    {
      "cell_type": "markdown",
      "source": [
        "Creating a preprocessing pipeline:"
      ],
      "metadata": {
        "id": "TKUWYvdgy0kT"
      },
      "id": "TKUWYvdgy0kT"
    },
    {
      "cell_type": "code",
      "source": [
        "# Definition - Scaling our numerical columns to remove outliers\n",
        "numerical_transformer = Pipeline(steps = [\n",
        "    ('scaler', RobustScaler())\n",
        "])\n",
        "\n",
        "# Definition - Counting the tokens within our text using CountVectorizer, and transforming the cateogrical attributes into integer labels\n",
        "categorical_transformer = Pipeline(steps=[\n",
        "    ('vectorizer', CountVectorizer(stop_words='english', ngram_range=(1,2), max_features=10)),\n",
        "    ('onehot', OneHotEncoder(handle_unknown='ignore'))\n",
        "])\n",
        "\n",
        "# Applying the defined transformers:\n",
        "preprocessor = ColumnTransformer(\n",
        "    transformers=[\n",
        "        ('num', numerical_transformer, numerical),\n",
        "        ('cat', categorical_transformer, categorical),\n",
        "      ])\n",
        "\n",
        "#Creating a preprocessing column transformer to transform numerical and categorical columns\n",
        "preprocessor = ColumnTransformer(\n",
        "    transformers=[\n",
        "        ('num', numerical_transformer, numerical),\n",
        "        ('cat', categorical_transformer, categorical),\n",
        "      ])"
      ],
      "outputs": [],
      "execution_count": null,
      "metadata": {
        "id": "a5ffff9c"
      },
      "id": "a5ffff9c"
    },
    {
      "cell_type": "markdown",
      "source": [
        "## **Q3 - Apply the Naïve Bayes Classification Algorithm on Sentiment category to predict if item is recommended.**"
      ],
      "metadata": {
        "id": "b3eb0a60"
      },
      "id": "b3eb0a60"
    },
    {
      "cell_type": "code",
      "source": [
        "from sklearn.naive_bayes import GaussianNB\n",
        "naive = GaussianNB() # Creating an instance of GuassianNB"
      ],
      "outputs": [],
      "execution_count": null,
      "metadata": {
        "id": "ac15bda3"
      },
      "id": "ac15bda3"
    },
    {
      "cell_type": "code",
      "source": [
        "# Passing our data through the preprocessing pipeline defined earlier:\n",
        "pl = Pipeline(steps=[  ('preprocessor', preprocessor), \n",
        "                       ('naive', naive)])"
      ],
      "outputs": [],
      "execution_count": null,
      "metadata": {
        "id": "e449d04e"
      },
      "id": "e449d04e"
    },
    {
      "cell_type": "code",
      "source": [
        "# Training our GaussianNB model on the preprocessed training data:\n",
        "pl.fit(x_train, y_train)"
      ],
      "outputs": [
        {
          "output_type": "execute_result",
          "execution_count": 29,
          "data": {
            "text/plain": "Pipeline(steps=[('preprocessor',\n                 ColumnTransformer(transformers=[('num',\n                                                  Pipeline(steps=[('scaler',\n                                                                   RobustScaler())]),\n                                                  ['Age', 'Rating',\n                                                   'Positive Feedback Count',\n                                                   'total', 'polarity_title',\n                                                   'polarity_review']),\n                                                 ('cat',\n                                                  Pipeline(steps=[('vectorizer',\n                                                                   CountVectorizer(max_features=10,\n                                                                                   ngram_range=(1,\n                                                                                                2),\n                                                                                   stop_words='english')),\n                                                                  ('onehot',\n                                                                   OneHotEncoder(handle_unknown='ignore'))]),\n                                                  [])])),\n                ('naive', GaussianNB())])"
          },
          "metadata": {}
        }
      ],
      "execution_count": null,
      "metadata": {
        "scrolled": true,
        "id": "b0521e86",
        "outputId": "f5469f8b-45d1-4873-8d86-a812fd96941d"
      },
      "id": "b0521e86"
    },
    {
      "cell_type": "code",
      "source": [
        "# Making sentiment predicitions:\n",
        "y_hat = pl.predict(x_test)"
      ],
      "outputs": [],
      "execution_count": null,
      "metadata": {
        "id": "de4bc829"
      },
      "id": "de4bc829"
    },
    {
      "cell_type": "markdown",
      "source": [
        "## **Q4.Tabulate accuracy in terms of precision recall and F1 score.**"
      ],
      "metadata": {
        "id": "dccdb3d3"
      },
      "id": "dccdb3d3"
    },
    {
      "cell_type": "code",
      "source": [
        "# Calculating accuracy:\n",
        "pl.score(x_test, y_test)"
      ],
      "outputs": [
        {
          "output_type": "execute_result",
          "execution_count": 31,
          "data": {
            "text/plain": "0.9308072487644151"
          },
          "metadata": {}
        }
      ],
      "execution_count": null,
      "metadata": {
        "id": "38c40986",
        "outputId": "cb8dd784-fc97-48a8-ca60-1e6fc3852b90"
      },
      "id": "38c40986"
    },
    {
      "cell_type": "code",
      "source": [
        "#top left = True Positive\n",
        "#top right = false positive\n",
        "#bottom left = false negative\n",
        "#bottom right = true negative\n",
        "\n",
        "from sklearn import metrics\n",
        "matrix = metrics.confusion_matrix(y_test, y_hat) # Creating a confusion matrix\n",
        "sns.heatmap(matrix, annot = True, fmt = 'g')     # Visualizing the confusion matrix"
      ],
      "outputs": [
        {
          "output_type": "execute_result",
          "execution_count": 32,
          "data": {
            "text/plain": "<AxesSubplot:>"
          },
          "metadata": {}
        },
        {
          "output_type": "display_data",
          "data": {
            "image/png": "[encoded data removed]",
            "text/plain": "<Figure size 432x288 with 2 Axes>"
          },
          "metadata": {
            "needs_background": "light"
          }
        }
      ],
      "execution_count": null,
      "metadata": {
        "id": "982ee552",
        "outputId": "89891eb1-8295-4aa9-857d-48abc6170ab2"
      },
      "id": "982ee552"
    },
    {
      "cell_type": "code",
      "source": [
        "#Representing the same numbers as percentages of the test set: \n",
        "sns.heatmap(matrix/np.sum(matrix), annot=True, fmt='.2%', cmap='Blues')"
      ],
      "outputs": [
        {
          "output_type": "execute_result",
          "execution_count": 33,
          "data": {
            "text/plain": "<AxesSubplot:>"
          },
          "metadata": {}
        },
        {
          "output_type": "display_data",
          "data": {
            "image/png": "[encoded data removed]",
            "text/plain": "<Figure size 432x288 with 2 Axes>"
          },
          "metadata": {
            "needs_background": "light"
          }
        }
      ],
      "execution_count": null,
      "metadata": {
        "id": "c7cffb22",
        "outputId": "61ebb807-ea5a-443e-ac8c-1fc704ed010d"
      },
      "id": "c7cffb22"
    },
    {
      "cell_type": "code",
      "source": [
        "#Precision = True Positive/(True Positive + False Positive)\n",
        "precision = matrix[0,0] / matrix[0, :].sum()\n",
        "precision"
      ],
      "outputs": [
        {
          "output_type": "execute_result",
          "execution_count": 34,
          "data": {
            "text/plain": "0.8972099853157122"
          },
          "metadata": {}
        }
      ],
      "execution_count": null,
      "metadata": {
        "id": "83245f6e",
        "outputId": "7f22e0f9-6e23-4851-9c33-ab144390ff3e"
      },
      "id": "83245f6e"
    },
    {
      "cell_type": "code",
      "source": [
        "#Sensitivity = Recall = True Positive Rate = True Positive/ (True Positive + False Negative)\n",
        "true_positive_rate = matrix[0,0] / matrix[:, 0].sum()\n",
        "true_positive_rate"
      ],
      "outputs": [
        {
          "output_type": "execute_result",
          "execution_count": 35,
          "data": {
            "text/plain": "0.7704918032786885"
          },
          "metadata": {}
        }
      ],
      "execution_count": null,
      "metadata": {
        "id": "71571004",
        "outputId": "e1c14045-d9e5-403b-8724-1f172ca1322e"
      },
      "id": "71571004"
    },
    {
      "cell_type": "code",
      "source": [
        "#F1 score = (2 * Precision * Recall) / (Precision + Recall)\n",
        "F1_score = (2 * precision * true_positive_rate)/(precision + true_positive_rate)\n",
        "F1_score"
      ],
      "outputs": [
        {
          "output_type": "execute_result",
          "execution_count": 36,
          "data": {
            "text/plain": "0.8290366350067843"
          },
          "metadata": {}
        }
      ],
      "execution_count": null,
      "metadata": {
        "id": "8691ec76",
        "outputId": "e0710a24-8787-4019-8ad1-bbe102ee7ac4"
      },
      "id": "8691ec76"
    }
  ],
  "metadata": {
    "kernelspec": {
      "display_name": "Python 3",
      "language": "python",
      "name": "python3"
    },
    "language_info": {
      "codemirror_mode": {
        "name": "ipython",
        "version": 3
      },
      "file_extension": ".py",
      "mimetype": "text/x-python",
      "name": "python",
      "nbconvert_exporter": "python",
      "pygments_lexer": "ipython3",
      "version": "3.8.8"
    },
    "nteract": {
      "version": "nteract-front-end@1.0.0"
    },
    "colab": {
      "provenance": []
    }
  },
  "nbformat": 4,
  "nbformat_minor": 5
}